{
 "cells": [
  {
   "cell_type": "markdown",
   "metadata": {},
   "source": [
    "# Financial Planning with APIs and Simulations\n",
    "\n",
    "In this Challenge, you’ll create two financial analysis tools by using a single Jupyter notebook:\n",
    "\n",
    "Part 1: A financial planner for emergencies. The members will be able to use this tool to visualize their current savings. The members can then determine if they have enough reserves for an emergency fund.\n",
    "\n",
    "Part 2: A financial planner for retirement. This tool will forecast the performance of their retirement portfolio in 30 years. To do this, the tool will make an Alpaca API call via the Alpaca SDK to get historical price data for use in Monte Carlo simulations.\n",
    "\n",
    "You’ll use the information from the Monte Carlo simulation to answer questions about the portfolio in your Jupyter notebook.\n",
    "\n"
   ]
  },
  {
   "cell_type": "code",
   "execution_count": 100,
   "metadata": {},
   "outputs": [],
   "source": [
    "# Import the required libraries and dependencies\n",
    "import os\n",
    "import requests\n",
    "import json\n",
    "import pandas as pd\n",
    "from dotenv import load_dotenv\n",
    "import alpaca_trade_api as tradeapi\n",
    "from MCForecastTools import MCSimulation\n",
    "\n",
    "%matplotlib inline"
   ]
  },
  {
   "cell_type": "code",
   "execution_count": 101,
   "metadata": {},
   "outputs": [
    {
     "data": {
      "text/plain": [
       "True"
      ]
     },
     "execution_count": 101,
     "metadata": {},
     "output_type": "execute_result"
    }
   ],
   "source": [
    "# Load the environment variables from the .env file\n",
    "#by calling the load_dotenv function\n",
    "load_dotenv()"
   ]
  },
  {
   "cell_type": "markdown",
   "metadata": {},
   "source": [
    "## Part 1: Create a Financial Planner for Emergencies"
   ]
  },
  {
   "cell_type": "markdown",
   "metadata": {},
   "source": [
    "### Evaluate the Cryptocurrency Wallet by Using the Requests Library\n",
    "\n",
    "In this section, you’ll determine the current value of a member’s cryptocurrency wallet. You’ll collect the current prices for the Bitcoin and Ethereum cryptocurrencies by using the Python Requests library. For the prototype, you’ll assume that the member holds the 1.2 Bitcoins (BTC) and 5.3 Ethereum coins (ETH). To do all this, complete the following steps:\n",
    "\n",
    "1. Create a variable named `monthly_income`, and set its value to `12000`.\n",
    "\n",
    "2. Use the Requests library to get the current price (in US dollars) of Bitcoin (BTC) and Ethereum (ETH) by using the API endpoints that the starter code supplies.\n",
    "\n",
    "3. Navigate the JSON response object to access the current price of each coin, and store each in a variable.\n",
    "\n",
    "    > **Hint** Note the specific identifier for each cryptocurrency in the API JSON response. The Bitcoin identifier is `1`, and the Ethereum identifier is `1027`.\n",
    "\n",
    "4. Calculate the value, in US dollars, of the current amount of each cryptocurrency and of the entire cryptocurrency wallet.\n",
    "\n"
   ]
  },
  {
   "cell_type": "code",
   "execution_count": 102,
   "metadata": {},
   "outputs": [],
   "source": [
    "# The current number of coins for each cryptocurrency asset held in the portfolio.\n",
    "btc_coins = 1.2\n",
    "eth_coins = 5.3"
   ]
  },
  {
   "cell_type": "markdown",
   "metadata": {},
   "source": [
    "#### Step 1: Create a variable named `monthly_income`, and set its value to `12000`."
   ]
  },
  {
   "cell_type": "code",
   "execution_count": 103,
   "metadata": {},
   "outputs": [],
   "source": [
    "# The monthly amount for the member's household income\n",
    "monthly_income = 12000"
   ]
  },
  {
   "cell_type": "markdown",
   "metadata": {},
   "source": [
    "#### Review the endpoint URLs for the API calls to Free Crypto API in order to get the current pricing information for both BTC and ETH."
   ]
  },
  {
   "cell_type": "code",
   "execution_count": 104,
   "metadata": {},
   "outputs": [],
   "source": [
    "# The Free Crypto API Call endpoint URLs for the held cryptocurrency assets\n",
    "btc_url = \"https://api.alternative.me/v2/ticker/Bitcoin/?convert=USD\"\n",
    "eth_url = \"https://api.alternative.me/v2/ticker/Ethereum/?convert=USD\""
   ]
  },
  {
   "cell_type": "markdown",
   "metadata": {},
   "source": [
    "#### Step 2. Use the Requests library to get the current price (in US dollars) of Bitcoin (BTC) and Ethereum (ETH) by using the API endpoints that the starter code supplied."
   ]
  },
  {
   "cell_type": "code",
   "execution_count": 105,
   "metadata": {},
   "outputs": [
    {
     "name": "stdout",
     "output_type": "stream",
     "text": [
      "{\n",
      "    \"data\": {\n",
      "        \"1\": {\n",
      "            \"circulating_supply\": 18688050,\n",
      "            \"id\": 1,\n",
      "            \"last_updated\": 1619067219,\n",
      "            \"max_supply\": 21000000,\n",
      "            \"name\": \"Bitcoin\",\n",
      "            \"quotes\": {\n",
      "                \"USD\": {\n",
      "                    \"market_cap\": 1010494982372,\n",
      "                    \"percent_change_1h\": 1.06568083956891,\n",
      "                    \"percent_change_24h\": -2.57234158644215,\n",
      "                    \"percent_change_7d\": -13.8728211279382,\n",
      "                    \"percentage_change_1h\": 1.06568083956891,\n",
      "                    \"percentage_change_24h\": -2.57234158644215,\n",
      "                    \"percentage_change_7d\": -13.8728211279382,\n",
      "                    \"price\": 54094.0,\n",
      "                    \"volume_24h\": 60244563828\n",
      "                }\n",
      "            },\n",
      "            \"rank\": 1,\n",
      "            \"symbol\": \"BTC\",\n",
      "            \"total_supply\": 18688050,\n",
      "            \"website_slug\": \"bitcoin\"\n",
      "        }\n",
      "    },\n",
      "    \"metadata\": {\n",
      "        \"error\": null,\n",
      "        \"num_cryptocurrencies\": 1312,\n",
      "        \"timestamp\": 1619067219\n",
      "    }\n",
      "}\n"
     ]
    }
   ],
   "source": [
    "# Using the Python requests library, make an API call to access the current price of BTC\n",
    "btc_response = requests.get(btc_url).json()\n",
    "\n",
    "# Use the json.dumps function to review the response data from the API call\n",
    "# Use the indent and sort_keys parameters to make the response object readable\n",
    "print(json.dumps(btc_response, indent=4, sort_keys=True))"
   ]
  },
  {
   "cell_type": "code",
   "execution_count": 106,
   "metadata": {},
   "outputs": [
    {
     "name": "stdout",
     "output_type": "stream",
     "text": [
      "{\n",
      "    \"data\": {\n",
      "        \"1027\": {\n",
      "            \"circulating_supply\": 115568827,\n",
      "            \"id\": 1027,\n",
      "            \"last_updated\": 1619067191,\n",
      "            \"max_supply\": 0,\n",
      "            \"name\": \"Ethereum\",\n",
      "            \"quotes\": {\n",
      "                \"USD\": {\n",
      "                    \"market_cap\": 279776310046,\n",
      "                    \"percent_change_1h\": 1.65977811784437,\n",
      "                    \"percent_change_24h\": 5.03056217216652,\n",
      "                    \"percent_change_7d\": -0.11504279926103,\n",
      "                    \"percentage_change_1h\": 1.65977811784437,\n",
      "                    \"percentage_change_24h\": 5.03056217216652,\n",
      "                    \"percentage_change_7d\": -0.11504279926103,\n",
      "                    \"price\": 2426.87,\n",
      "                    \"volume_24h\": 47990942165\n",
      "                }\n",
      "            },\n",
      "            \"rank\": 2,\n",
      "            \"symbol\": \"ETH\",\n",
      "            \"total_supply\": 115568827,\n",
      "            \"website_slug\": \"ethereum\"\n",
      "        }\n",
      "    },\n",
      "    \"metadata\": {\n",
      "        \"error\": null,\n",
      "        \"num_cryptocurrencies\": 1312,\n",
      "        \"timestamp\": 1619067191\n",
      "    }\n",
      "}\n"
     ]
    }
   ],
   "source": [
    "# Using the Python requests library, make an API call to access the current price ETH\n",
    "eth_response = requests.get(eth_url).json()\n",
    "\n",
    "# Use the json.dumps function to review the response data from the API call\n",
    "# Use the indent and sort_keys parameters to make the response object readable\n",
    "print(json.dumps(eth_response, indent=4, sort_keys=True))"
   ]
  },
  {
   "cell_type": "markdown",
   "metadata": {},
   "source": [
    "#### Step 3: Navigate the JSON response object to access the current price of each coin, and store each in a variable."
   ]
  },
  {
   "cell_type": "code",
   "execution_count": 107,
   "metadata": {},
   "outputs": [
    {
     "name": "stdout",
     "output_type": "stream",
     "text": [
      "The current price of Bitcoin is $54094.00\n"
     ]
    }
   ],
   "source": [
    "# Navigate the BTC response object to access the current price of BTC\n",
    "btc_price = btc_response['data']['1']['quotes']['USD']['price']\n",
    "\n",
    "# Print the current price of BTC\n",
    "print(f\"The current price of Bitcoin is ${btc_price:0.2f}\")"
   ]
  },
  {
   "cell_type": "code",
   "execution_count": 108,
   "metadata": {},
   "outputs": [
    {
     "name": "stdout",
     "output_type": "stream",
     "text": [
      "The current price of Ethereum is $2426.87\n"
     ]
    }
   ],
   "source": [
    "# Navigate the BTC response object to access the current price of ETH\n",
    "eth_price = eth_response['data']['1027']['quotes']['USD']['price']\n",
    "\n",
    "# Print the current price of ETH\n",
    "print(f\"The current price of Ethereum is ${eth_price:0.2f}\")"
   ]
  },
  {
   "cell_type": "markdown",
   "metadata": {},
   "source": [
    "### Step 4: Calculate the value, in US dollars, of the current amount of each cryptocurrency and of the entire cryptocurrency wallet."
   ]
  },
  {
   "cell_type": "code",
   "execution_count": 109,
   "metadata": {},
   "outputs": [
    {
     "name": "stdout",
     "output_type": "stream",
     "text": [
      "The current value of the Bitcoin holdings is $64912.80\n"
     ]
    }
   ],
   "source": [
    "# Compute the current value of the BTC holding \n",
    "btc_value = btc_price * btc_coins\n",
    "\n",
    "# Print current value of your holding in BTC\n",
    "print(f\"The current value of the Bitcoin holdings is ${btc_value:0.2f}\")"
   ]
  },
  {
   "cell_type": "code",
   "execution_count": 110,
   "metadata": {},
   "outputs": [
    {
     "name": "stdout",
     "output_type": "stream",
     "text": [
      "The current value of the Ethereum holdings is $12862.41\n"
     ]
    }
   ],
   "source": [
    "# Compute the current value of the ETH holding \n",
    "eth_value = eth_price * eth_coins\n",
    "\n",
    "# Print current value of your holding in ETH\n",
    "print(f\"The current value of the Ethereum holdings is ${eth_value:0.2f}\")"
   ]
  },
  {
   "cell_type": "code",
   "execution_count": 111,
   "metadata": {},
   "outputs": [
    {
     "name": "stdout",
     "output_type": "stream",
     "text": [
      "The current value of the Crypto Wallet is $77775.21\n"
     ]
    }
   ],
   "source": [
    "# Compute the total value of the cryptocurrency wallet\n",
    "# Add the value of the BTC holding to the value of the ETH holding\n",
    "total_crypto_wallet = btc_value + eth_value\n",
    "\n",
    "# Print current cryptocurrency wallet balance\n",
    "print(f\"The current value of the Crypto Wallet is ${total_crypto_wallet:0.2f}\")"
   ]
  },
  {
   "cell_type": "markdown",
   "metadata": {},
   "source": [
    "### Evaluate the Stock and Bond Holdings by Using the Alpaca SDK\n",
    "\n",
    "In this section, you’ll determine the current value of a member’s stock and bond holdings. You’ll make an API call to Alpaca via the Alpaca SDK to get the current closing prices of the SPDR S&P 500 ETF Trust (ticker: SPY) and of the iShares Core US Aggregate Bond ETF (ticker: AGG). For the prototype, assume that the member holds 110 shares of SPY, which represents the stock portion of their portfolio, and 200 shares of AGG, which represents the bond portion. To do all this, complete the following steps:\n",
    "\n",
    "1. In the `Starter_Code` folder, create an environment file (`.env`) to store the values of your Alpaca API key and Alpaca secret key.\n",
    "\n",
    "2. Set the variables for the Alpaca API and secret keys. Using the Alpaca SDK, create the Alpaca `tradeapi.REST` object. In this object, include the parameters for the Alpaca API key, the secret key, and the version number.\n",
    "\n",
    "3. Set the following parameters for the Alpaca API call:\n",
    "\n",
    "    - `tickers`: Use the tickers for the member’s stock and bond holdings.\n",
    "\n",
    "    - `timeframe`: Use a time frame of one day.\n",
    "\n",
    "    - `start_date` and `end_date`: Use the same date for these parameters, and format them with the date of the previous weekday (or `2020-08-07`). This is because you want the one closing price for the most-recent trading day.\n",
    "\n",
    "4. Get the current closing prices for `SPY` and `AGG` by using the Alpaca `get_barset` function. Format the response as a Pandas DataFrame by including the `df` property at the end of the `get_barset` function.\n",
    "\n",
    "5. Navigating the Alpaca response DataFrame, select the `SPY` and `AGG` closing prices, and store them as variables.\n",
    "\n",
    "6. Calculate the value, in US dollars, of the current amount of shares in each of the stock and bond portions of the portfolio, and print the results.\n"
   ]
  },
  {
   "cell_type": "markdown",
   "metadata": {},
   "source": [
    "#### Review the total number of shares held in both (SPY) and (AGG)."
   ]
  },
  {
   "cell_type": "code",
   "execution_count": 112,
   "metadata": {},
   "outputs": [],
   "source": [
    "# Current amount of shares held in both the stock (SPY) and bond (AGG) portion of the portfolio.\n",
    "spy_shares = 110\n",
    "agg_shares = 200\n"
   ]
  },
  {
   "cell_type": "markdown",
   "metadata": {},
   "source": [
    "#### Step 1: In the `Starter_Code` folder, create an environment file (`.env`) to store the values of your Alpaca API key and Alpaca secret key."
   ]
  },
  {
   "cell_type": "markdown",
   "metadata": {},
   "source": [
    "#### Step 2: Set the variables for the Alpaca API and secret keys. Using the Alpaca SDK, create the Alpaca `tradeapi.REST` object. In this object, include the parameters for the Alpaca API key, the secret key, and the version number."
   ]
  },
  {
   "cell_type": "code",
   "execution_count": 113,
   "metadata": {},
   "outputs": [],
   "source": [
    "# Set the variables for the Alpaca API and secret keys\n",
    "alpaca_api_key = os.getenv('ALPACA_API_KEY')\n",
    "alpaca_secret_key = os.getenv('ALPACA_SECRET_KEY')\n",
    "\n",
    "# Create the Alpaca tradeapi.REST object\n",
    "alpaca = tradeapi.REST(alpaca_api_key, alpaca_secret_key, api_version='v2')"
   ]
  },
  {
   "cell_type": "markdown",
   "metadata": {},
   "source": [
    "#### Step 3: Set the following parameters for the Alpaca API call:\n",
    "\n",
    "- `tickers`: Use the tickers for the member’s stock and bond holdings.\n",
    "\n",
    "- `timeframe`: Use a time frame of one day.\n",
    "\n",
    "- `start_date` and `end_date`: Use the same date for these parameters, and format them with the date of the previous weekday (or `2020-08-07`). This is because you want the one closing price for the most-recent trading day.\n"
   ]
  },
  {
   "cell_type": "code",
   "execution_count": 114,
   "metadata": {},
   "outputs": [],
   "source": [
    "# Set the tickers for both the bond and stock portion of the portfolio\n",
    "tickers = ['SPY', 'AGG']\n",
    "\n",
    "# Set timeframe to 1D \n",
    "timeframe = '1D'\n",
    "\n",
    "# Format current date as ISO format\n",
    "# Set both the start and end date at the date of your prior weekday \n",
    "# This will give you the closing price of the previous trading day\n",
    "# Alternatively you can use a start and end date of 2020-08-07\n",
    "start_date = pd.Timestamp('2021-04-20', tz='America/New_York').isoformat()\n",
    "end_date = pd.Timestamp('2021-04-20', tz='America/New_York').isoformat()"
   ]
  },
  {
   "cell_type": "markdown",
   "metadata": {},
   "source": [
    "#### Step 4: Get the current closing prices for `SPY` and `AGG` by using the Alpaca `get_barset` function. Format the response as a Pandas DataFrame by including the `df` property at the end of the `get_barset` function."
   ]
  },
  {
   "cell_type": "code",
   "execution_count": 115,
   "metadata": {},
   "outputs": [
    {
     "data": {
      "text/html": [
       "<div>\n",
       "<style scoped>\n",
       "    .dataframe tbody tr th:only-of-type {\n",
       "        vertical-align: middle;\n",
       "    }\n",
       "\n",
       "    .dataframe tbody tr th {\n",
       "        vertical-align: top;\n",
       "    }\n",
       "\n",
       "    .dataframe thead tr th {\n",
       "        text-align: left;\n",
       "    }\n",
       "\n",
       "    .dataframe thead tr:last-of-type th {\n",
       "        text-align: right;\n",
       "    }\n",
       "</style>\n",
       "<table border=\"1\" class=\"dataframe\">\n",
       "  <thead>\n",
       "    <tr>\n",
       "      <th></th>\n",
       "      <th colspan=\"5\" halign=\"left\">AGG</th>\n",
       "      <th colspan=\"5\" halign=\"left\">SPY</th>\n",
       "    </tr>\n",
       "    <tr>\n",
       "      <th></th>\n",
       "      <th>open</th>\n",
       "      <th>high</th>\n",
       "      <th>low</th>\n",
       "      <th>close</th>\n",
       "      <th>volume</th>\n",
       "      <th>open</th>\n",
       "      <th>high</th>\n",
       "      <th>low</th>\n",
       "      <th>close</th>\n",
       "      <th>volume</th>\n",
       "    </tr>\n",
       "    <tr>\n",
       "      <th>time</th>\n",
       "      <th></th>\n",
       "      <th></th>\n",
       "      <th></th>\n",
       "      <th></th>\n",
       "      <th></th>\n",
       "      <th></th>\n",
       "      <th></th>\n",
       "      <th></th>\n",
       "      <th></th>\n",
       "      <th></th>\n",
       "    </tr>\n",
       "  </thead>\n",
       "  <tbody>\n",
       "    <tr>\n",
       "      <th>2021-04-20 00:00:00-04:00</th>\n",
       "      <td>114.42</td>\n",
       "      <td>114.67</td>\n",
       "      <td>114.39</td>\n",
       "      <td>114.62</td>\n",
       "      <td>3674209</td>\n",
       "      <td>413.91</td>\n",
       "      <td>415.0859</td>\n",
       "      <td>410.59</td>\n",
       "      <td>412.22</td>\n",
       "      <td>69715050</td>\n",
       "    </tr>\n",
       "  </tbody>\n",
       "</table>\n",
       "</div>"
      ],
      "text/plain": [
       "                              AGG                                      SPY  \\\n",
       "                             open    high     low   close   volume    open   \n",
       "time                                                                         \n",
       "2021-04-20 00:00:00-04:00  114.42  114.67  114.39  114.62  3674209  413.91   \n",
       "\n",
       "                                                               \n",
       "                               high     low   close    volume  \n",
       "time                                                           \n",
       "2021-04-20 00:00:00-04:00  415.0859  410.59  412.22  69715050  "
      ]
     },
     "execution_count": 115,
     "metadata": {},
     "output_type": "execute_result"
    }
   ],
   "source": [
    "# Use the Alpaca get_barset function to get current closing prices the portfolio\n",
    "# Be sure to set the `df` property after the function to format the response object as a DataFrame\n",
    "portfolio_df = alpaca.get_barset(tickers, timeframe, start = start_date, end = end_date).df\n",
    "\n",
    "\n",
    "\n",
    "# Review the first 5 rows of the Alpaca DataFrame\n",
    "# YOUR CODE HERE\n",
    "portfolio_df.head()"
   ]
  },
  {
   "cell_type": "markdown",
   "metadata": {},
   "source": [
    "#### Step 5: Navigating the Alpaca response DataFrame, select the `SPY` and `AGG` closing prices, and store them as variables."
   ]
  },
  {
   "cell_type": "code",
   "execution_count": 116,
   "metadata": {},
   "outputs": [
    {
     "name": "stdout",
     "output_type": "stream",
     "text": [
      "The closing price for AGG is $114.62\n"
     ]
    }
   ],
   "source": [
    "# Access the closing price for AGG from the Alpaca DataFrame\n",
    "# Converting the value to a floating point number\n",
    "agg_close_price = float(portfolio_df['AGG']['close'])\n",
    "\n",
    "# Print the AGG closing price\n",
    "print(f\"The closing price for AGG is ${agg_close_price:0.2f}\")"
   ]
  },
  {
   "cell_type": "code",
   "execution_count": 117,
   "metadata": {},
   "outputs": [
    {
     "name": "stdout",
     "output_type": "stream",
     "text": [
      "The closing price for SPY is $412.22\n"
     ]
    }
   ],
   "source": [
    "# Access the closing price for SPY from the Alpaca DataFrame\n",
    "# Converting the value to a floating point number\n",
    "spy_close_price = float(portfolio_df['SPY']['close'])\n",
    "\n",
    "# Print the SPY closing price\n",
    "print(f\"The closing price for SPY is ${spy_close_price:0.2f}\")"
   ]
  },
  {
   "cell_type": "markdown",
   "metadata": {},
   "source": [
    "#### Step 6: Calculate the value, in US dollars, of the current amount of shares in each of the stock and bond portions of the portfolio, and print the results."
   ]
  },
  {
   "cell_type": "code",
   "execution_count": 118,
   "metadata": {},
   "outputs": [
    {
     "name": "stdout",
     "output_type": "stream",
     "text": [
      "The current value of the bonds portion of the portfolio is $22924.00\n"
     ]
    }
   ],
   "source": [
    "# Calculate the current value of the bond portion of the portfolio\n",
    "agg_value = agg_shares * agg_close_price\n",
    "\n",
    "# Print the current value of the bond portfolio\n",
    "print(f\"The current value of the bonds portion of the portfolio is ${agg_value:0.2f}\")"
   ]
  },
  {
   "cell_type": "code",
   "execution_count": 119,
   "metadata": {},
   "outputs": [
    {
     "name": "stdout",
     "output_type": "stream",
     "text": [
      "The current value of the stocks portion of the portfolio is $45344.20\n"
     ]
    }
   ],
   "source": [
    "# Calculate the current value of the stock portion of the portfolio\n",
    "spy_value = spy_shares * spy_close_price\n",
    "\n",
    "# Print the current value of the stock portfolio\n",
    "print(f\"The current value of the stocks portion of the portfolio is ${spy_value:0.2f}\")"
   ]
  },
  {
   "cell_type": "code",
   "execution_count": 120,
   "metadata": {},
   "outputs": [
    {
     "name": "stdout",
     "output_type": "stream",
     "text": [
      "The current value of the stocks and bonds portion of the portfolio is $68268.20\n"
     ]
    }
   ],
   "source": [
    "# Calculate the total value of the stock and bond portion of the portfolio\n",
    "total_stocks_bonds = spy_value + agg_value\n",
    "\n",
    "# Print the current balance of the stock and bond portion of the portfolio\n",
    "print(f\"The current value of the stocks and bonds portion of the portfolio is ${total_stocks_bonds:0.2f}\")"
   ]
  },
  {
   "cell_type": "code",
   "execution_count": 121,
   "metadata": {},
   "outputs": [
    {
     "name": "stdout",
     "output_type": "stream",
     "text": [
      "The current value of the entire portfolio is $146043.41\n"
     ]
    }
   ],
   "source": [
    "# Calculate the total value of the member's entire savings portfolio\n",
    "# Add the value of the cryptocurrency walled to the value of the total stocks and bonds\n",
    "total_portfolio = total_stocks_bonds + total_crypto_wallet\n",
    "\n",
    "# Print current cryptocurrency wallet balance\n",
    "# YOUR CODE HERE\n",
    "print(f\"The current value of the entire portfolio is ${total_portfolio:0.2f}\")"
   ]
  },
  {
   "cell_type": "markdown",
   "metadata": {},
   "source": [
    "### Evaluate the Emergency Fund\n",
    "\n",
    "In this section, you’ll use the valuations for the cryptocurrency wallet and for the stock and bond portions of the portfolio to determine if the credit union member has enough savings to build an emergency fund into their financial plan. To do this, complete the following steps:\n",
    "\n",
    "1. Create a Python list named `savings_data` that has two elements. The first element contains the total value of the cryptocurrency wallet. The second element contains the total value of the stock and bond portions of the portfolio.\n",
    "\n",
    "2. Use the `savings_data` list to create a Pandas DataFrame named `savings_df`, and then display this DataFrame. The function to create the DataFrame should take the following three parameters:\n",
    "\n",
    "    - `savings_data`: Use the list that you just created.\n",
    "\n",
    "    - `columns`: Set this parameter equal to a Python list with a single value called `amount`.\n",
    "\n",
    "    - `index`: Set this parameter equal to a Python list with the values of `crypto` and `stock/bond`.\n",
    "\n",
    "3. Use the `savings_df` DataFrame to plot a pie chart that visualizes the composition of the member’s portfolio. The y-axis of the pie chart uses `amount`. Be sure to add a title.\n",
    "\n",
    "4. Using Python, determine if the current portfolio has enough to create an emergency fund as part of the member’s financial plan. Ideally, an emergency fund should equal to three times the member’s monthly income. To do this, implement the following steps:\n",
    "\n",
    "    1. Create a variable named `emergency_fund_value`, and set it equal to three times the value of the member’s `monthly_income` of $12000. (You set this earlier in Part 1).\n",
    "\n",
    "    2. Create a series of three if statements to determine if the member’s total portfolio is large enough to fund the emergency portfolio:\n",
    "\n",
    "        1. If the total portfolio value is greater than the emergency fund value, display a message congratulating the member for having enough money in this fund.\n",
    "\n",
    "        2. Else if the total portfolio value is equal to the emergency fund value, display a message congratulating the member on reaching this important financial goal.\n",
    "\n",
    "        3. Else the total portfolio is less than the emergency fund value, so display a message showing how many dollars away the member is from reaching the goal. (Subtract the total portfolio value from the emergency fund value.)\n"
   ]
  },
  {
   "cell_type": "markdown",
   "metadata": {},
   "source": [
    "#### Step 1: Create a Python list named `savings_data` that has two elements. The first element contains the total value of the cryptocurrency wallet. The second element contains the total value of the stock and bond portions of the portfolio."
   ]
  },
  {
   "cell_type": "code",
   "execution_count": 122,
   "metadata": {},
   "outputs": [
    {
     "data": {
      "text/plain": [
       "[68268.20000000001, 77775.211]"
      ]
     },
     "execution_count": 122,
     "metadata": {},
     "output_type": "execute_result"
    }
   ],
   "source": [
    "# Consolidate financial assets data into a Python list\n",
    "savings_data = [total_stocks_bonds, total_crypto_wallet]\n",
    "\n",
    "# Review the Python list savings_data\n",
    "savings_data    "
   ]
  },
  {
   "cell_type": "markdown",
   "metadata": {},
   "source": [
    "#### Step 2: Use the `savings_data` list to create a Pandas DataFrame named `savings_df`, and then display this DataFrame. The function to create the DataFrame should take the following three parameters:\n",
    "\n",
    "- `savings_data`: Use the list that you just created.\n",
    "\n",
    "- `columns`: Set this parameter equal to a Python list with a single value called `amount`.\n",
    "\n",
    "- `index`: Set this parameter equal to a Python list with the values of `crypto` and `stock/bond`.\n"
   ]
  },
  {
   "cell_type": "code",
   "execution_count": 123,
   "metadata": {},
   "outputs": [
    {
     "data": {
      "text/html": [
       "<div>\n",
       "<style scoped>\n",
       "    .dataframe tbody tr th:only-of-type {\n",
       "        vertical-align: middle;\n",
       "    }\n",
       "\n",
       "    .dataframe tbody tr th {\n",
       "        vertical-align: top;\n",
       "    }\n",
       "\n",
       "    .dataframe thead th {\n",
       "        text-align: right;\n",
       "    }\n",
       "</style>\n",
       "<table border=\"1\" class=\"dataframe\">\n",
       "  <thead>\n",
       "    <tr style=\"text-align: right;\">\n",
       "      <th></th>\n",
       "      <th>amount</th>\n",
       "    </tr>\n",
       "  </thead>\n",
       "  <tbody>\n",
       "    <tr>\n",
       "      <th>stock/bond</th>\n",
       "      <td>68268.200</td>\n",
       "    </tr>\n",
       "    <tr>\n",
       "      <th>crypto</th>\n",
       "      <td>77775.211</td>\n",
       "    </tr>\n",
       "  </tbody>\n",
       "</table>\n",
       "</div>"
      ],
      "text/plain": [
       "               amount\n",
       "stock/bond  68268.200\n",
       "crypto      77775.211"
      ]
     },
     "execution_count": 123,
     "metadata": {},
     "output_type": "execute_result"
    }
   ],
   "source": [
    "# Create a Pandas DataFrame called savings_df \n",
    "savings_df = pd.DataFrame(savings_data, columns=['amount'], index=['stock/bond', 'crypto'])\n",
    "\n",
    "\n",
    "# Display the savings_df DataFrame\n",
    "savings_df"
   ]
  },
  {
   "cell_type": "markdown",
   "metadata": {},
   "source": [
    "#### Step 3: Use the `savings_df` DataFrame to plot a pie chart that visualizes the composition of the member’s portfolio. The y-axis of the pie chart uses `amount`. Be sure to add a title."
   ]
  },
  {
   "cell_type": "code",
   "execution_count": 124,
   "metadata": {},
   "outputs": [
    {
     "data": {
      "text/plain": [
       "<AxesSubplot:title={'center':'Total Value of Portfolio'}, ylabel='amount'>"
      ]
     },
     "execution_count": 124,
     "metadata": {},
     "output_type": "execute_result"
    },
    {
     "data": {
      "image/png": "[encoded data removed]",
      "text/plain": [
       "<Figure size 504x504 with 1 Axes>"
      ]
     },
     "metadata": {},
     "output_type": "display_data"
    }
   ],
   "source": [
    "# Plot the total value of the member's portfolio (crypto and stock/bond) in a pie chart\n",
    "savings_df.plot.pie(title=\"Total Value of Portfolio\", figsize=(7,7), y='amount')"
   ]
  },
  {
   "cell_type": "markdown",
   "metadata": {},
   "source": [
    "#### Step 4: Using Python, determine if the current portfolio has enough to create an emergency fund as part of the member’s financial plan. Ideally, an emergency fund should equal to three times the member’s monthly income. To do this, implement the following steps:\n",
    "\n",
    "Step 1. Create a variable named `emergency_fund_value`, and set it equal to three times the value of the member’s `monthly_income` of 12000. (You set this earlier in Part 1).\n",
    "\n",
    "Step 2. Create a series of three if statements to determine if the member’s total portfolio is large enough to fund the emergency portfolio:\n",
    "\n",
    "* If the total portfolio value is greater than the emergency fund value, display a message congratulating the member for having enough money in this fund.\n",
    "\n",
    "* Else if the total portfolio value is equal to the emergency fund value, display a message congratulating the member on reaching this important financial goal.\n",
    "\n",
    "* Else the total portfolio is less than the emergency fund value, so display a message showing how many dollars away the member is from reaching the goal. (Subtract the total portfolio value from the emergency fund value.)\n"
   ]
  },
  {
   "cell_type": "markdown",
   "metadata": {},
   "source": [
    "##### Step 4-1: Create a variable named `emergency_fund_value`, and set it equal to three times the value of the member’s `monthly_income` of 12000. (You set this earlier in Part 1)."
   ]
  },
  {
   "cell_type": "code",
   "execution_count": 125,
   "metadata": {},
   "outputs": [],
   "source": [
    "# Create a variable named emergency_fund_value\n",
    "emergency_fund_value = monthly_income * 3"
   ]
  },
  {
   "cell_type": "markdown",
   "metadata": {},
   "source": [
    "##### Step 4-2: Create a series of three if statements to determine if the member’s total portfolio is large enough to fund the emergency portfolio:\n",
    "\n",
    "* If the total portfolio value is greater than the emergency fund value, display a message congratulating the member for having enough money in this fund.\n",
    "\n",
    "* Else if the total portfolio value is equal to the emergency fund value, display a message congratulating the member on reaching this important financial goal.\n",
    "\n",
    "* Else the total portfolio is less than the emergency fund value, so display a message showing how many dollars away the member is from reaching the goal. (Subtract the total portfolio value from the emergency fund value.)"
   ]
  },
  {
   "cell_type": "code",
   "execution_count": 126,
   "metadata": {},
   "outputs": [
    {
     "data": {
      "text/plain": [
       "'Congratulations! You have enough money in this fund.'"
      ]
     },
     "metadata": {},
     "output_type": "display_data"
    }
   ],
   "source": [
    "# Evaluate the possibility of creating an emergency fund with 3 conditions:\n",
    "if (total_portfolio >emergency_fund_value):\n",
    "    display(\"Congratulations! You have enough money in this fund.\")\n",
    "elif (round(total_portfolio,2) == emergency_fund_value):\n",
    "    display(\"Congratulations! You have reached your financial goal.\")\n",
    "else:\n",
    "    print(f\"You are ${emergency_fund_value-total_portfolio:0.2f} short of reaching your financial goal.\")\n"
   ]
  },
  {
   "cell_type": "markdown",
   "metadata": {},
   "source": [
    "## Part 2: Create a Financial Planner for Retirement"
   ]
  },
  {
   "cell_type": "markdown",
   "metadata": {},
   "source": [
    "### Create the Monte Carlo Simulation\n",
    "\n",
    "In this section, you’ll use the MCForecastTools library to create a Monte Carlo simulation for the member’s savings portfolio. To do this, complete the following steps:\n",
    "\n",
    "1. Make an API call via the Alpaca SDK to get 10 years of historical closing prices for a traditional 60/40 portfolio split: 60% stocks (SPY) and 40% bonds (AGG).\n",
    "\n",
    "2. Run a Monte Carlo simulation of 500 samples and 30 years for the 60/40 portfolio, and then plot the results.The following image shows the overlay line plot resulting from a simulation with these characteristics. However, because a random number generator is used to run each live Monte Carlo simulation, your image will differ slightly from this exact image:\n",
    "\n",
    "![A screenshot depicts the resulting plot.](Images/5-4-monte-carlo-line-plot.png)\n",
    "\n",
    "3. Plot the probability distribution of the Monte Carlo simulation. Plot the probability distribution of the Monte Carlo simulation. The following image shows the histogram plot resulting from a simulation with these characteristics. However, because a random number generator is used to run each live Monte Carlo simulation, your image will differ slightly from this exact image:\n",
    "\n",
    "![A screenshot depicts the histogram plot.](Images/5-4-monte-carlo-histogram.png)\n",
    "\n",
    "4. Generate the summary statistics for the Monte Carlo simulation.\n",
    "\n"
   ]
  },
  {
   "cell_type": "markdown",
   "metadata": {},
   "source": [
    "#### Step 1: Make an API call via the Alpaca SDK to get 10 years of historical closing prices for a traditional 60/40 portfolio split: 60% stocks (SPY) and 40% bonds (AGG)."
   ]
  },
  {
   "cell_type": "code",
   "execution_count": 212,
   "metadata": {},
   "outputs": [],
   "source": [
    "# Set start and end dates of 10 years back from your current date\n",
    "# Alternatively, you can use an end date of 2020-08-07 and work 10 years back from that date \n",
    "start_date = pd.Timestamp('2011-04-20', tz='America/New_York').isoformat()\n",
    "end_date = pd.Timestamp('2021-04-20', tz='America/New_York').isoformat()\n",
    "end_date_2 = pd.Timestamp('2017-04-28', tz='America/New_York').isoformat()\n",
    "end_date_3 = pd.Timestamp('2013-05-10', tz='America/New_York').isoformat()\n"
   ]
  },
  {
   "cell_type": "code",
   "execution_count": 215,
   "metadata": {},
   "outputs": [
    {
     "data": {
      "text/html": [
       "<div>\n",
       "<style scoped>\n",
       "    .dataframe tbody tr th:only-of-type {\n",
       "        vertical-align: middle;\n",
       "    }\n",
       "\n",
       "    .dataframe tbody tr th {\n",
       "        vertical-align: top;\n",
       "    }\n",
       "\n",
       "    .dataframe thead tr th {\n",
       "        text-align: left;\n",
       "    }\n",
       "\n",
       "    .dataframe thead tr:last-of-type th {\n",
       "        text-align: right;\n",
       "    }\n",
       "</style>\n",
       "<table border=\"1\" class=\"dataframe\">\n",
       "  <thead>\n",
       "    <tr>\n",
       "      <th></th>\n",
       "      <th colspan=\"5\" halign=\"left\">AGG</th>\n",
       "      <th colspan=\"5\" halign=\"left\">SPY</th>\n",
       "    </tr>\n",
       "    <tr>\n",
       "      <th></th>\n",
       "      <th>open</th>\n",
       "      <th>high</th>\n",
       "      <th>low</th>\n",
       "      <th>close</th>\n",
       "      <th>volume</th>\n",
       "      <th>open</th>\n",
       "      <th>high</th>\n",
       "      <th>low</th>\n",
       "      <th>close</th>\n",
       "      <th>volume</th>\n",
       "    </tr>\n",
       "    <tr>\n",
       "      <th>time</th>\n",
       "      <th></th>\n",
       "      <th></th>\n",
       "      <th></th>\n",
       "      <th></th>\n",
       "      <th></th>\n",
       "      <th></th>\n",
       "      <th></th>\n",
       "      <th></th>\n",
       "      <th></th>\n",
       "      <th></th>\n",
       "    </tr>\n",
       "  </thead>\n",
       "  <tbody>\n",
       "    <tr>\n",
       "      <th>2011-04-20 00:00:00-04:00</th>\n",
       "      <td>105.75</td>\n",
       "      <td>105.83</td>\n",
       "      <td>105.64</td>\n",
       "      <td>105.69</td>\n",
       "      <td>377292</td>\n",
       "      <td>132.88</td>\n",
       "      <td>133.39</td>\n",
       "      <td>132.79</td>\n",
       "      <td>133.13</td>\n",
       "      <td>119650131</td>\n",
       "    </tr>\n",
       "    <tr>\n",
       "      <th>2011-04-21 00:00:00-04:00</th>\n",
       "      <td>105.70</td>\n",
       "      <td>105.83</td>\n",
       "      <td>105.67</td>\n",
       "      <td>105.76</td>\n",
       "      <td>412009</td>\n",
       "      <td>133.79</td>\n",
       "      <td>133.84</td>\n",
       "      <td>133.35</td>\n",
       "      <td>133.75</td>\n",
       "      <td>90991053</td>\n",
       "    </tr>\n",
       "    <tr>\n",
       "      <th>2011-04-25 00:00:00-04:00</th>\n",
       "      <td>105.75</td>\n",
       "      <td>105.92</td>\n",
       "      <td>105.70</td>\n",
       "      <td>105.81</td>\n",
       "      <td>514708</td>\n",
       "      <td>133.67</td>\n",
       "      <td>133.86</td>\n",
       "      <td>133.20</td>\n",
       "      <td>133.61</td>\n",
       "      <td>51288661</td>\n",
       "    </tr>\n",
       "    <tr>\n",
       "      <th>2011-04-26 00:00:00-04:00</th>\n",
       "      <td>105.91</td>\n",
       "      <td>106.20</td>\n",
       "      <td>105.91</td>\n",
       "      <td>106.19</td>\n",
       "      <td>551387</td>\n",
       "      <td>134.05</td>\n",
       "      <td>135.06</td>\n",
       "      <td>133.91</td>\n",
       "      <td>134.78</td>\n",
       "      <td>101593079</td>\n",
       "    </tr>\n",
       "    <tr>\n",
       "      <th>2011-04-27 00:00:00-04:00</th>\n",
       "      <td>106.02</td>\n",
       "      <td>106.15</td>\n",
       "      <td>105.87</td>\n",
       "      <td>106.12</td>\n",
       "      <td>445160</td>\n",
       "      <td>135.05</td>\n",
       "      <td>135.87</td>\n",
       "      <td>134.50</td>\n",
       "      <td>135.62</td>\n",
       "      <td>115224999</td>\n",
       "    </tr>\n",
       "  </tbody>\n",
       "</table>\n",
       "</div>"
      ],
      "text/plain": [
       "                              AGG                                     SPY  \\\n",
       "                             open    high     low   close  volume    open   \n",
       "time                                                                        \n",
       "2011-04-20 00:00:00-04:00  105.75  105.83  105.64  105.69  377292  132.88   \n",
       "2011-04-21 00:00:00-04:00  105.70  105.83  105.67  105.76  412009  133.79   \n",
       "2011-04-25 00:00:00-04:00  105.75  105.92  105.70  105.81  514708  133.67   \n",
       "2011-04-26 00:00:00-04:00  105.91  106.20  105.91  106.19  551387  134.05   \n",
       "2011-04-27 00:00:00-04:00  106.02  106.15  105.87  106.12  445160  135.05   \n",
       "\n",
       "                                                              \n",
       "                             high     low   close     volume  \n",
       "time                                                          \n",
       "2011-04-20 00:00:00-04:00  133.39  132.79  133.13  119650131  \n",
       "2011-04-21 00:00:00-04:00  133.84  133.35  133.75   90991053  \n",
       "2011-04-25 00:00:00-04:00  133.86  133.20  133.61   51288661  \n",
       "2011-04-26 00:00:00-04:00  135.06  133.91  134.78  101593079  \n",
       "2011-04-27 00:00:00-04:00  135.87  134.50  135.62  115224999  "
      ]
     },
     "metadata": {},
     "output_type": "display_data"
    },
    {
     "data": {
      "text/html": [
       "<div>\n",
       "<style scoped>\n",
       "    .dataframe tbody tr th:only-of-type {\n",
       "        vertical-align: middle;\n",
       "    }\n",
       "\n",
       "    .dataframe tbody tr th {\n",
       "        vertical-align: top;\n",
       "    }\n",
       "\n",
       "    .dataframe thead tr th {\n",
       "        text-align: left;\n",
       "    }\n",
       "\n",
       "    .dataframe thead tr:last-of-type th {\n",
       "        text-align: right;\n",
       "    }\n",
       "</style>\n",
       "<table border=\"1\" class=\"dataframe\">\n",
       "  <thead>\n",
       "    <tr>\n",
       "      <th></th>\n",
       "      <th colspan=\"5\" halign=\"left\">AGG</th>\n",
       "      <th colspan=\"5\" halign=\"left\">SPY</th>\n",
       "    </tr>\n",
       "    <tr>\n",
       "      <th></th>\n",
       "      <th>open</th>\n",
       "      <th>high</th>\n",
       "      <th>low</th>\n",
       "      <th>close</th>\n",
       "      <th>volume</th>\n",
       "      <th>open</th>\n",
       "      <th>high</th>\n",
       "      <th>low</th>\n",
       "      <th>close</th>\n",
       "      <th>volume</th>\n",
       "    </tr>\n",
       "    <tr>\n",
       "      <th>time</th>\n",
       "      <th></th>\n",
       "      <th></th>\n",
       "      <th></th>\n",
       "      <th></th>\n",
       "      <th></th>\n",
       "      <th></th>\n",
       "      <th></th>\n",
       "      <th></th>\n",
       "      <th></th>\n",
       "      <th></th>\n",
       "    </tr>\n",
       "  </thead>\n",
       "  <tbody>\n",
       "    <tr>\n",
       "      <th>2021-04-14 00:00:00-04:00</th>\n",
       "      <td>114.41</td>\n",
       "      <td>114.440</td>\n",
       "      <td>114.28</td>\n",
       "      <td>114.38</td>\n",
       "      <td>3519430</td>\n",
       "      <td>412.83</td>\n",
       "      <td>413.9600</td>\n",
       "      <td>410.87</td>\n",
       "      <td>411.48</td>\n",
       "      <td>52954751</td>\n",
       "    </tr>\n",
       "    <tr>\n",
       "      <th>2021-04-15 00:00:00-04:00</th>\n",
       "      <td>113.78</td>\n",
       "      <td>114.980</td>\n",
       "      <td>113.78</td>\n",
       "      <td>114.81</td>\n",
       "      <td>5455777</td>\n",
       "      <td>413.74</td>\n",
       "      <td>416.1600</td>\n",
       "      <td>413.69</td>\n",
       "      <td>415.82</td>\n",
       "      <td>54836749</td>\n",
       "    </tr>\n",
       "    <tr>\n",
       "      <th>2021-04-16 00:00:00-04:00</th>\n",
       "      <td>114.56</td>\n",
       "      <td>114.665</td>\n",
       "      <td>114.50</td>\n",
       "      <td>114.54</td>\n",
       "      <td>3488514</td>\n",
       "      <td>417.25</td>\n",
       "      <td>417.9100</td>\n",
       "      <td>415.73</td>\n",
       "      <td>417.31</td>\n",
       "      <td>66624780</td>\n",
       "    </tr>\n",
       "    <tr>\n",
       "      <th>2021-04-19 00:00:00-04:00</th>\n",
       "      <td>114.00</td>\n",
       "      <td>114.500</td>\n",
       "      <td>114.00</td>\n",
       "      <td>114.44</td>\n",
       "      <td>4820664</td>\n",
       "      <td>416.26</td>\n",
       "      <td>416.7400</td>\n",
       "      <td>413.79</td>\n",
       "      <td>415.24</td>\n",
       "      <td>66226327</td>\n",
       "    </tr>\n",
       "    <tr>\n",
       "      <th>2021-04-20 00:00:00-04:00</th>\n",
       "      <td>114.42</td>\n",
       "      <td>114.670</td>\n",
       "      <td>114.39</td>\n",
       "      <td>114.62</td>\n",
       "      <td>3674209</td>\n",
       "      <td>413.91</td>\n",
       "      <td>415.0859</td>\n",
       "      <td>410.59</td>\n",
       "      <td>412.22</td>\n",
       "      <td>69715050</td>\n",
       "    </tr>\n",
       "  </tbody>\n",
       "</table>\n",
       "</div>"
      ],
      "text/plain": [
       "                              AGG                                       SPY  \\\n",
       "                             open     high     low   close   volume    open   \n",
       "time                                                                          \n",
       "2021-04-14 00:00:00-04:00  114.41  114.440  114.28  114.38  3519430  412.83   \n",
       "2021-04-15 00:00:00-04:00  113.78  114.980  113.78  114.81  5455777  413.74   \n",
       "2021-04-16 00:00:00-04:00  114.56  114.665  114.50  114.54  3488514  417.25   \n",
       "2021-04-19 00:00:00-04:00  114.00  114.500  114.00  114.44  4820664  416.26   \n",
       "2021-04-20 00:00:00-04:00  114.42  114.670  114.39  114.62  3674209  413.91   \n",
       "\n",
       "                                                               \n",
       "                               high     low   close    volume  \n",
       "time                                                           \n",
       "2021-04-14 00:00:00-04:00  413.9600  410.87  411.48  52954751  \n",
       "2021-04-15 00:00:00-04:00  416.1600  413.69  415.82  54836749  \n",
       "2021-04-16 00:00:00-04:00  417.9100  415.73  417.31  66624780  \n",
       "2021-04-19 00:00:00-04:00  416.7400  413.79  415.24  66226327  \n",
       "2021-04-20 00:00:00-04:00  415.0859  410.59  412.22  69715050  "
      ]
     },
     "metadata": {},
     "output_type": "display_data"
    }
   ],
   "source": [
    "# Use the Alpaca get_barset function to make the API call to get the 10 years worth of pricing data\n",
    "# The tickers and timeframe parameters should have been set in Part 1 of this activity \n",
    "# The start and end dates should be updated with the information set above\n",
    "# Remember to add the df property to the end of the call so the response is returned as a DataFrame\n",
    "prices_10years_df_1 = alpaca.get_barset(tickers, timeframe, limit=1000, end=end_date).df\n",
    "\n",
    "prices_10years_df_2 = alpaca.get_barset(tickers, timeframe, limit=1000, end=end_date_2).df\n",
    "\n",
    "prices_10years_df_3 = alpaca.get_barset(tickers, timeframe, limit=517, end=end_date_3).df\n",
    "\n",
    "# Display both the first and last five rows of the DataFrame\n",
    "\n",
    "prices_10years_df = pd.concat([prices_10years_df_3, prices_10years_df_2, prices_10years_df_1])\n",
    "prices_10years_df = prices_10years_df.drop_duplicates()\n",
    "\n",
    "display(prices_10years_df.head())\n",
    "display(prices_10years_df.tail())\n"
   ]
  },
  {
   "cell_type": "markdown",
   "metadata": {},
   "source": [
    "#### Step 2: Run a Monte Carlo simulation of 500 samples and 30 years for the 60/40 portfolio, and then plot the results."
   ]
  },
  {
   "cell_type": "code",
   "execution_count": 216,
   "metadata": {},
   "outputs": [
    {
     "data": {
      "text/html": [
       "<div>\n",
       "<style scoped>\n",
       "    .dataframe tbody tr th:only-of-type {\n",
       "        vertical-align: middle;\n",
       "    }\n",
       "\n",
       "    .dataframe tbody tr th {\n",
       "        vertical-align: top;\n",
       "    }\n",
       "\n",
       "    .dataframe thead tr th {\n",
       "        text-align: left;\n",
       "    }\n",
       "\n",
       "    .dataframe thead tr:last-of-type th {\n",
       "        text-align: right;\n",
       "    }\n",
       "</style>\n",
       "<table border=\"1\" class=\"dataframe\">\n",
       "  <thead>\n",
       "    <tr>\n",
       "      <th></th>\n",
       "      <th colspan=\"6\" halign=\"left\">AGG</th>\n",
       "      <th colspan=\"6\" halign=\"left\">SPY</th>\n",
       "    </tr>\n",
       "    <tr>\n",
       "      <th></th>\n",
       "      <th>open</th>\n",
       "      <th>high</th>\n",
       "      <th>low</th>\n",
       "      <th>close</th>\n",
       "      <th>volume</th>\n",
       "      <th>daily_return</th>\n",
       "      <th>open</th>\n",
       "      <th>high</th>\n",
       "      <th>low</th>\n",
       "      <th>close</th>\n",
       "      <th>volume</th>\n",
       "      <th>daily_return</th>\n",
       "    </tr>\n",
       "    <tr>\n",
       "      <th>time</th>\n",
       "      <th></th>\n",
       "      <th></th>\n",
       "      <th></th>\n",
       "      <th></th>\n",
       "      <th></th>\n",
       "      <th></th>\n",
       "      <th></th>\n",
       "      <th></th>\n",
       "      <th></th>\n",
       "      <th></th>\n",
       "      <th></th>\n",
       "      <th></th>\n",
       "    </tr>\n",
       "  </thead>\n",
       "  <tbody>\n",
       "    <tr>\n",
       "      <th>2011-04-20 00:00:00-04:00</th>\n",
       "      <td>105.75</td>\n",
       "      <td>105.83</td>\n",
       "      <td>105.64</td>\n",
       "      <td>105.69</td>\n",
       "      <td>377292</td>\n",
       "      <td>NaN</td>\n",
       "      <td>132.88</td>\n",
       "      <td>133.39</td>\n",
       "      <td>132.79</td>\n",
       "      <td>133.13</td>\n",
       "      <td>119650131</td>\n",
       "      <td>NaN</td>\n",
       "    </tr>\n",
       "    <tr>\n",
       "      <th>2011-04-21 00:00:00-04:00</th>\n",
       "      <td>105.70</td>\n",
       "      <td>105.83</td>\n",
       "      <td>105.67</td>\n",
       "      <td>105.76</td>\n",
       "      <td>412009</td>\n",
       "      <td>0.000662</td>\n",
       "      <td>133.79</td>\n",
       "      <td>133.84</td>\n",
       "      <td>133.35</td>\n",
       "      <td>133.75</td>\n",
       "      <td>90991053</td>\n",
       "      <td>0.004657</td>\n",
       "    </tr>\n",
       "    <tr>\n",
       "      <th>2011-04-25 00:00:00-04:00</th>\n",
       "      <td>105.75</td>\n",
       "      <td>105.92</td>\n",
       "      <td>105.70</td>\n",
       "      <td>105.81</td>\n",
       "      <td>514708</td>\n",
       "      <td>0.000473</td>\n",
       "      <td>133.67</td>\n",
       "      <td>133.86</td>\n",
       "      <td>133.20</td>\n",
       "      <td>133.61</td>\n",
       "      <td>51288661</td>\n",
       "      <td>-0.001047</td>\n",
       "    </tr>\n",
       "    <tr>\n",
       "      <th>2011-04-26 00:00:00-04:00</th>\n",
       "      <td>105.91</td>\n",
       "      <td>106.20</td>\n",
       "      <td>105.91</td>\n",
       "      <td>106.19</td>\n",
       "      <td>551387</td>\n",
       "      <td>0.003591</td>\n",
       "      <td>134.05</td>\n",
       "      <td>135.06</td>\n",
       "      <td>133.91</td>\n",
       "      <td>134.78</td>\n",
       "      <td>101593079</td>\n",
       "      <td>0.008757</td>\n",
       "    </tr>\n",
       "    <tr>\n",
       "      <th>2011-04-27 00:00:00-04:00</th>\n",
       "      <td>106.02</td>\n",
       "      <td>106.15</td>\n",
       "      <td>105.87</td>\n",
       "      <td>106.12</td>\n",
       "      <td>445160</td>\n",
       "      <td>-0.000659</td>\n",
       "      <td>135.05</td>\n",
       "      <td>135.87</td>\n",
       "      <td>134.50</td>\n",
       "      <td>135.62</td>\n",
       "      <td>115224999</td>\n",
       "      <td>0.006232</td>\n",
       "    </tr>\n",
       "  </tbody>\n",
       "</table>\n",
       "</div>"
      ],
      "text/plain": [
       "                              AGG                                  \\\n",
       "                             open    high     low   close  volume   \n",
       "time                                                                \n",
       "2011-04-20 00:00:00-04:00  105.75  105.83  105.64  105.69  377292   \n",
       "2011-04-21 00:00:00-04:00  105.70  105.83  105.67  105.76  412009   \n",
       "2011-04-25 00:00:00-04:00  105.75  105.92  105.70  105.81  514708   \n",
       "2011-04-26 00:00:00-04:00  105.91  106.20  105.91  106.19  551387   \n",
       "2011-04-27 00:00:00-04:00  106.02  106.15  105.87  106.12  445160   \n",
       "\n",
       "                                           SPY                          \\\n",
       "                          daily_return    open    high     low   close   \n",
       "time                                                                     \n",
       "2011-04-20 00:00:00-04:00          NaN  132.88  133.39  132.79  133.13   \n",
       "2011-04-21 00:00:00-04:00     0.000662  133.79  133.84  133.35  133.75   \n",
       "2011-04-25 00:00:00-04:00     0.000473  133.67  133.86  133.20  133.61   \n",
       "2011-04-26 00:00:00-04:00     0.003591  134.05  135.06  133.91  134.78   \n",
       "2011-04-27 00:00:00-04:00    -0.000659  135.05  135.87  134.50  135.62   \n",
       "\n",
       "                                                   \n",
       "                              volume daily_return  \n",
       "time                                               \n",
       "2011-04-20 00:00:00-04:00  119650131          NaN  \n",
       "2011-04-21 00:00:00-04:00   90991053     0.004657  \n",
       "2011-04-25 00:00:00-04:00   51288661    -0.001047  \n",
       "2011-04-26 00:00:00-04:00  101593079     0.008757  \n",
       "2011-04-27 00:00:00-04:00  115224999     0.006232  "
      ]
     },
     "execution_count": 216,
     "metadata": {},
     "output_type": "execute_result"
    }
   ],
   "source": [
    "# Configure the Monte Carlo simulation to forecast 30 years cumulative returns\n",
    "# The weights should be split 40% to AGG and 60% to SPY.\n",
    "# Run 500 samples.\n",
    "MC_thirtyyear = MCSimulation(portfolio_data= prices_10years_df, weights=[.40, .60], num_simulation=500, num_trading_days= 252*30)\n",
    "# Review the simulation input data\n",
    "MC_thirtyyear.portfolio_data.head()"
   ]
  },
  {
   "cell_type": "code",
   "execution_count": 218,
   "metadata": {},
   "outputs": [
    {
     "name": "stdout",
     "output_type": "stream",
     "text": [
      "Running Monte Carlo simulation number 0.\n",
      "Running Monte Carlo simulation number 10.\n",
      "Running Monte Carlo simulation number 20.\n",
      "Running Monte Carlo simulation number 30.\n",
      "Running Monte Carlo simulation number 40.\n",
      "Running Monte Carlo simulation number 50.\n",
      "Running Monte Carlo simulation number 60.\n",
      "Running Monte Carlo simulation number 70.\n",
      "Running Monte Carlo simulation number 80.\n",
      "Running Monte Carlo simulation number 90.\n",
      "Running Monte Carlo simulation number 100.\n",
      "Running Monte Carlo simulation number 110.\n",
      "Running Monte Carlo simulation number 120.\n",
      "Running Monte Carlo simulation number 130.\n",
      "Running Monte Carlo simulation number 140.\n",
      "Running Monte Carlo simulation number 150.\n",
      "Running Monte Carlo simulation number 160.\n",
      "Running Monte Carlo simulation number 170.\n",
      "Running Monte Carlo simulation number 180.\n",
      "Running Monte Carlo simulation number 190.\n",
      "Running Monte Carlo simulation number 200.\n",
      "Running Monte Carlo simulation number 210.\n",
      "Running Monte Carlo simulation number 220.\n",
      "Running Monte Carlo simulation number 230.\n",
      "Running Monte Carlo simulation number 240.\n",
      "Running Monte Carlo simulation number 250.\n",
      "Running Monte Carlo simulation number 260.\n",
      "Running Monte Carlo simulation number 270.\n",
      "Running Monte Carlo simulation number 280.\n",
      "Running Monte Carlo simulation number 290.\n",
      "Running Monte Carlo simulation number 300.\n",
      "Running Monte Carlo simulation number 310.\n",
      "Running Monte Carlo simulation number 320.\n",
      "Running Monte Carlo simulation number 330.\n",
      "Running Monte Carlo simulation number 340.\n",
      "Running Monte Carlo simulation number 350.\n",
      "Running Monte Carlo simulation number 360.\n",
      "Running Monte Carlo simulation number 370.\n",
      "Running Monte Carlo simulation number 380.\n",
      "Running Monte Carlo simulation number 390.\n",
      "Running Monte Carlo simulation number 400.\n",
      "Running Monte Carlo simulation number 410.\n",
      "Running Monte Carlo simulation number 420.\n",
      "Running Monte Carlo simulation number 430.\n",
      "Running Monte Carlo simulation number 440.\n",
      "Running Monte Carlo simulation number 450.\n",
      "Running Monte Carlo simulation number 460.\n",
      "Running Monte Carlo simulation number 470.\n",
      "Running Monte Carlo simulation number 480.\n",
      "Running Monte Carlo simulation number 490.\n"
     ]
    },
    {
     "data": {
      "text/html": [
       "<div>\n",
       "<style scoped>\n",
       "    .dataframe tbody tr th:only-of-type {\n",
       "        vertical-align: middle;\n",
       "    }\n",
       "\n",
       "    .dataframe tbody tr th {\n",
       "        vertical-align: top;\n",
       "    }\n",
       "\n",
       "    .dataframe thead th {\n",
       "        text-align: right;\n",
       "    }\n",
       "</style>\n",
       "<table border=\"1\" class=\"dataframe\">\n",
       "  <thead>\n",
       "    <tr style=\"text-align: right;\">\n",
       "      <th></th>\n",
       "      <th>0</th>\n",
       "      <th>1</th>\n",
       "      <th>2</th>\n",
       "      <th>3</th>\n",
       "      <th>4</th>\n",
       "      <th>5</th>\n",
       "      <th>6</th>\n",
       "      <th>7</th>\n",
       "      <th>8</th>\n",
       "      <th>9</th>\n",
       "      <th>...</th>\n",
       "      <th>490</th>\n",
       "      <th>491</th>\n",
       "      <th>492</th>\n",
       "      <th>493</th>\n",
       "      <th>494</th>\n",
       "      <th>495</th>\n",
       "      <th>496</th>\n",
       "      <th>497</th>\n",
       "      <th>498</th>\n",
       "      <th>499</th>\n",
       "    </tr>\n",
       "  </thead>\n",
       "  <tbody>\n",
       "    <tr>\n",
       "      <th>0</th>\n",
       "      <td>1.000000</td>\n",
       "      <td>1.000000</td>\n",
       "      <td>1.000000</td>\n",
       "      <td>1.000000</td>\n",
       "      <td>1.000000</td>\n",
       "      <td>1.000000</td>\n",
       "      <td>1.000000</td>\n",
       "      <td>1.000000</td>\n",
       "      <td>1.000000</td>\n",
       "      <td>1.000000</td>\n",
       "      <td>...</td>\n",
       "      <td>1.000000</td>\n",
       "      <td>1.000000</td>\n",
       "      <td>1.000000</td>\n",
       "      <td>1.000000</td>\n",
       "      <td>1.000000</td>\n",
       "      <td>1.000000</td>\n",
       "      <td>1.000000</td>\n",
       "      <td>1.000000</td>\n",
       "      <td>1.000000</td>\n",
       "      <td>1.000000</td>\n",
       "    </tr>\n",
       "    <tr>\n",
       "      <th>1</th>\n",
       "      <td>1.007707</td>\n",
       "      <td>0.996943</td>\n",
       "      <td>0.999022</td>\n",
       "      <td>0.992666</td>\n",
       "      <td>0.998811</td>\n",
       "      <td>1.010563</td>\n",
       "      <td>1.000463</td>\n",
       "      <td>1.006681</td>\n",
       "      <td>0.992563</td>\n",
       "      <td>0.999506</td>\n",
       "      <td>...</td>\n",
       "      <td>1.000569</td>\n",
       "      <td>0.994906</td>\n",
       "      <td>0.995988</td>\n",
       "      <td>1.009735</td>\n",
       "      <td>1.008865</td>\n",
       "      <td>1.012452</td>\n",
       "      <td>1.006468</td>\n",
       "      <td>1.005670</td>\n",
       "      <td>0.999311</td>\n",
       "      <td>0.995608</td>\n",
       "    </tr>\n",
       "    <tr>\n",
       "      <th>2</th>\n",
       "      <td>1.011437</td>\n",
       "      <td>0.994635</td>\n",
       "      <td>1.008024</td>\n",
       "      <td>0.999441</td>\n",
       "      <td>0.988578</td>\n",
       "      <td>1.012696</td>\n",
       "      <td>0.997608</td>\n",
       "      <td>1.000271</td>\n",
       "      <td>1.005868</td>\n",
       "      <td>0.994064</td>\n",
       "      <td>...</td>\n",
       "      <td>0.994532</td>\n",
       "      <td>0.985263</td>\n",
       "      <td>0.995716</td>\n",
       "      <td>1.004751</td>\n",
       "      <td>1.018454</td>\n",
       "      <td>1.005770</td>\n",
       "      <td>0.998792</td>\n",
       "      <td>1.003033</td>\n",
       "      <td>0.993426</td>\n",
       "      <td>1.000755</td>\n",
       "    </tr>\n",
       "    <tr>\n",
       "      <th>3</th>\n",
       "      <td>1.008811</td>\n",
       "      <td>0.990479</td>\n",
       "      <td>0.999641</td>\n",
       "      <td>0.990018</td>\n",
       "      <td>0.983313</td>\n",
       "      <td>1.028271</td>\n",
       "      <td>1.004279</td>\n",
       "      <td>0.993163</td>\n",
       "      <td>1.011580</td>\n",
       "      <td>1.000379</td>\n",
       "      <td>...</td>\n",
       "      <td>0.991991</td>\n",
       "      <td>0.983368</td>\n",
       "      <td>1.001531</td>\n",
       "      <td>1.012202</td>\n",
       "      <td>1.018208</td>\n",
       "      <td>1.015370</td>\n",
       "      <td>1.003033</td>\n",
       "      <td>1.004617</td>\n",
       "      <td>0.983649</td>\n",
       "      <td>1.006293</td>\n",
       "    </tr>\n",
       "    <tr>\n",
       "      <th>4</th>\n",
       "      <td>0.995299</td>\n",
       "      <td>0.992849</td>\n",
       "      <td>0.986476</td>\n",
       "      <td>0.992935</td>\n",
       "      <td>0.990818</td>\n",
       "      <td>1.026148</td>\n",
       "      <td>0.998026</td>\n",
       "      <td>0.989720</td>\n",
       "      <td>1.020168</td>\n",
       "      <td>1.015787</td>\n",
       "      <td>...</td>\n",
       "      <td>1.011827</td>\n",
       "      <td>0.978792</td>\n",
       "      <td>1.009197</td>\n",
       "      <td>1.016011</td>\n",
       "      <td>1.009427</td>\n",
       "      <td>1.021586</td>\n",
       "      <td>1.010048</td>\n",
       "      <td>0.994546</td>\n",
       "      <td>0.981576</td>\n",
       "      <td>1.005504</td>\n",
       "    </tr>\n",
       "    <tr>\n",
       "      <th>...</th>\n",
       "      <td>...</td>\n",
       "      <td>...</td>\n",
       "      <td>...</td>\n",
       "      <td>...</td>\n",
       "      <td>...</td>\n",
       "      <td>...</td>\n",
       "      <td>...</td>\n",
       "      <td>...</td>\n",
       "      <td>...</td>\n",
       "      <td>...</td>\n",
       "      <td>...</td>\n",
       "      <td>...</td>\n",
       "      <td>...</td>\n",
       "      <td>...</td>\n",
       "      <td>...</td>\n",
       "      <td>...</td>\n",
       "      <td>...</td>\n",
       "      <td>...</td>\n",
       "      <td>...</td>\n",
       "      <td>...</td>\n",
       "      <td>...</td>\n",
       "    </tr>\n",
       "    <tr>\n",
       "      <th>7556</th>\n",
       "      <td>9.228287</td>\n",
       "      <td>6.038641</td>\n",
       "      <td>31.670327</td>\n",
       "      <td>8.248021</td>\n",
       "      <td>6.826447</td>\n",
       "      <td>13.104508</td>\n",
       "      <td>9.206416</td>\n",
       "      <td>7.210354</td>\n",
       "      <td>14.788484</td>\n",
       "      <td>20.435071</td>\n",
       "      <td>...</td>\n",
       "      <td>6.383269</td>\n",
       "      <td>8.953875</td>\n",
       "      <td>11.752422</td>\n",
       "      <td>2.715905</td>\n",
       "      <td>2.909497</td>\n",
       "      <td>16.929431</td>\n",
       "      <td>6.046885</td>\n",
       "      <td>2.167754</td>\n",
       "      <td>17.981075</td>\n",
       "      <td>7.592788</td>\n",
       "    </tr>\n",
       "    <tr>\n",
       "      <th>7557</th>\n",
       "      <td>9.308159</td>\n",
       "      <td>6.013042</td>\n",
       "      <td>31.839375</td>\n",
       "      <td>8.225850</td>\n",
       "      <td>6.760662</td>\n",
       "      <td>12.966272</td>\n",
       "      <td>9.232956</td>\n",
       "      <td>7.262167</td>\n",
       "      <td>14.907870</td>\n",
       "      <td>20.407679</td>\n",
       "      <td>...</td>\n",
       "      <td>6.453468</td>\n",
       "      <td>9.014867</td>\n",
       "      <td>11.799763</td>\n",
       "      <td>2.729599</td>\n",
       "      <td>2.898210</td>\n",
       "      <td>16.979535</td>\n",
       "      <td>6.008706</td>\n",
       "      <td>2.147907</td>\n",
       "      <td>18.136686</td>\n",
       "      <td>7.606529</td>\n",
       "    </tr>\n",
       "    <tr>\n",
       "      <th>7558</th>\n",
       "      <td>9.223063</td>\n",
       "      <td>5.984580</td>\n",
       "      <td>31.572172</td>\n",
       "      <td>8.262540</td>\n",
       "      <td>6.770187</td>\n",
       "      <td>12.925346</td>\n",
       "      <td>9.269863</td>\n",
       "      <td>7.230927</td>\n",
       "      <td>14.968485</td>\n",
       "      <td>20.305756</td>\n",
       "      <td>...</td>\n",
       "      <td>6.477592</td>\n",
       "      <td>9.099564</td>\n",
       "      <td>11.779090</td>\n",
       "      <td>2.683469</td>\n",
       "      <td>2.883462</td>\n",
       "      <td>16.982037</td>\n",
       "      <td>6.068730</td>\n",
       "      <td>2.164927</td>\n",
       "      <td>18.281764</td>\n",
       "      <td>7.684133</td>\n",
       "    </tr>\n",
       "    <tr>\n",
       "      <th>7559</th>\n",
       "      <td>9.274592</td>\n",
       "      <td>5.954230</td>\n",
       "      <td>31.721171</td>\n",
       "      <td>8.298793</td>\n",
       "      <td>6.756493</td>\n",
       "      <td>12.944898</td>\n",
       "      <td>9.281214</td>\n",
       "      <td>7.122016</td>\n",
       "      <td>14.961259</td>\n",
       "      <td>20.233662</td>\n",
       "      <td>...</td>\n",
       "      <td>6.532558</td>\n",
       "      <td>9.083074</td>\n",
       "      <td>11.764135</td>\n",
       "      <td>2.704989</td>\n",
       "      <td>2.875588</td>\n",
       "      <td>16.988128</td>\n",
       "      <td>6.120766</td>\n",
       "      <td>2.184793</td>\n",
       "      <td>18.252278</td>\n",
       "      <td>7.680354</td>\n",
       "    </tr>\n",
       "    <tr>\n",
       "      <th>7560</th>\n",
       "      <td>9.292974</td>\n",
       "      <td>5.984503</td>\n",
       "      <td>31.614913</td>\n",
       "      <td>8.380179</td>\n",
       "      <td>6.786632</td>\n",
       "      <td>12.888213</td>\n",
       "      <td>9.293286</td>\n",
       "      <td>7.163907</td>\n",
       "      <td>14.980047</td>\n",
       "      <td>20.464408</td>\n",
       "      <td>...</td>\n",
       "      <td>6.513081</td>\n",
       "      <td>9.125189</td>\n",
       "      <td>11.865789</td>\n",
       "      <td>2.702803</td>\n",
       "      <td>2.880271</td>\n",
       "      <td>17.062280</td>\n",
       "      <td>6.203469</td>\n",
       "      <td>2.186967</td>\n",
       "      <td>18.192189</td>\n",
       "      <td>7.675190</td>\n",
       "    </tr>\n",
       "  </tbody>\n",
       "</table>\n",
       "<p>7561 rows × 500 columns</p>\n",
       "</div>"
      ],
      "text/plain": [
       "           0         1          2         3         4          5         6    \\\n",
       "0     1.000000  1.000000   1.000000  1.000000  1.000000   1.000000  1.000000   \n",
       "1     1.007707  0.996943   0.999022  0.992666  0.998811   1.010563  1.000463   \n",
       "2     1.011437  0.994635   1.008024  0.999441  0.988578   1.012696  0.997608   \n",
       "3     1.008811  0.990479   0.999641  0.990018  0.983313   1.028271  1.004279   \n",
       "4     0.995299  0.992849   0.986476  0.992935  0.990818   1.026148  0.998026   \n",
       "...        ...       ...        ...       ...       ...        ...       ...   \n",
       "7556  9.228287  6.038641  31.670327  8.248021  6.826447  13.104508  9.206416   \n",
       "7557  9.308159  6.013042  31.839375  8.225850  6.760662  12.966272  9.232956   \n",
       "7558  9.223063  5.984580  31.572172  8.262540  6.770187  12.925346  9.269863   \n",
       "7559  9.274592  5.954230  31.721171  8.298793  6.756493  12.944898  9.281214   \n",
       "7560  9.292974  5.984503  31.614913  8.380179  6.786632  12.888213  9.293286   \n",
       "\n",
       "           7          8          9    ...       490       491        492  \\\n",
       "0     1.000000   1.000000   1.000000  ...  1.000000  1.000000   1.000000   \n",
       "1     1.006681   0.992563   0.999506  ...  1.000569  0.994906   0.995988   \n",
       "2     1.000271   1.005868   0.994064  ...  0.994532  0.985263   0.995716   \n",
       "3     0.993163   1.011580   1.000379  ...  0.991991  0.983368   1.001531   \n",
       "4     0.989720   1.020168   1.015787  ...  1.011827  0.978792   1.009197   \n",
       "...        ...        ...        ...  ...       ...       ...        ...   \n",
       "7556  7.210354  14.788484  20.435071  ...  6.383269  8.953875  11.752422   \n",
       "7557  7.262167  14.907870  20.407679  ...  6.453468  9.014867  11.799763   \n",
       "7558  7.230927  14.968485  20.305756  ...  6.477592  9.099564  11.779090   \n",
       "7559  7.122016  14.961259  20.233662  ...  6.532558  9.083074  11.764135   \n",
       "7560  7.163907  14.980047  20.464408  ...  6.513081  9.125189  11.865789   \n",
       "\n",
       "           493       494        495       496       497        498       499  \n",
       "0     1.000000  1.000000   1.000000  1.000000  1.000000   1.000000  1.000000  \n",
       "1     1.009735  1.008865   1.012452  1.006468  1.005670   0.999311  0.995608  \n",
       "2     1.004751  1.018454   1.005770  0.998792  1.003033   0.993426  1.000755  \n",
       "3     1.012202  1.018208   1.015370  1.003033  1.004617   0.983649  1.006293  \n",
       "4     1.016011  1.009427   1.021586  1.010048  0.994546   0.981576  1.005504  \n",
       "...        ...       ...        ...       ...       ...        ...       ...  \n",
       "7556  2.715905  2.909497  16.929431  6.046885  2.167754  17.981075  7.592788  \n",
       "7557  2.729599  2.898210  16.979535  6.008706  2.147907  18.136686  7.606529  \n",
       "7558  2.683469  2.883462  16.982037  6.068730  2.164927  18.281764  7.684133  \n",
       "7559  2.704989  2.875588  16.988128  6.120766  2.184793  18.252278  7.680354  \n",
       "7560  2.702803  2.880271  17.062280  6.203469  2.186967  18.192189  7.675190  \n",
       "\n",
       "[7561 rows x 500 columns]"
      ]
     },
     "execution_count": 218,
     "metadata": {},
     "output_type": "execute_result"
    }
   ],
   "source": [
    "# Run the Monte Carlo simulation to forecast 30 years cumulative returns\n",
    "MC_thirtyyear.calc_cumulative_return()"
   ]
  },
  {
   "cell_type": "code",
   "execution_count": 219,
   "metadata": {},
   "outputs": [
    {
     "data": {
      "text/plain": [
       "<AxesSubplot:title={'center':'500 Simulations of Cumulative Portfolio Return Trajectories Over the Next 7560 Trading Days.'}>"
      ]
     },
     "execution_count": 219,
     "metadata": {},
     "output_type": "execute_result"
    },
    {
     "data": {
      "image/png": "[encoded data removed]",
      "text/plain": [
       "<Figure size 432x288 with 1 Axes>"
      ]
     },
     "metadata": {
      "needs_background": "light"
     },
     "output_type": "display_data"
    }
   ],
   "source": [
    "# Visualize the 30-year Monte Carlo simulation by creating an\n",
    "# overlay line plot\n",
    "MC_thirtyyear.plot_simulation()"
   ]
  },
  {
   "cell_type": "markdown",
   "metadata": {},
   "source": [
    "#### Step 3: Plot the probability distribution of the Monte Carlo simulation."
   ]
  },
  {
   "cell_type": "code",
   "execution_count": 220,
   "metadata": {},
   "outputs": [
    {
     "data": {
      "text/plain": [
       "<AxesSubplot:title={'center':'Distribution of Final Cumuluative Returns Across All 500 Simulations'}, ylabel='Frequency'>"
      ]
     },
     "execution_count": 220,
     "metadata": {},
     "output_type": "execute_result"
    },
    {
     "data": {
      "image/png": "[encoded data removed]",
      "text/plain": [
       "<Figure size 432x288 with 1 Axes>"
      ]
     },
     "metadata": {
      "needs_background": "light"
     },
     "output_type": "display_data"
    }
   ],
   "source": [
    "# Visualize the probability distribution of the 30-year Monte Carlo simulation \n",
    "# by plotting a histogram\n",
    "MC_thirtyyear.plot_distribution()"
   ]
  },
  {
   "cell_type": "markdown",
   "metadata": {},
   "source": [
    "#### Step 4: Generate the summary statistics for the Monte Carlo simulation."
   ]
  },
  {
   "cell_type": "code",
   "execution_count": 221,
   "metadata": {},
   "outputs": [
    {
     "name": "stdout",
     "output_type": "stream",
     "text": [
      "count           500.000000\n",
      "mean             11.699802\n",
      "std               7.534283\n",
      "min               1.258352\n",
      "25%               6.353169\n",
      "50%               9.562960\n",
      "75%              14.901908\n",
      "max              50.667271\n",
      "95% CI Lower      2.910245\n",
      "95% CI Upper     30.035038\n",
      "Name: 7560, dtype: float64\n"
     ]
    }
   ],
   "source": [
    "# Generate summary statistics from the 30-year Monte Carlo simulation results\n",
    "# Save the results as a variable\n",
    "MC_summary_statistics = MC_thirtyyear.summarize_cumulative_return()\n",
    "\n",
    "# Review the 30-year Monte Carlo summary statistics\n",
    "print(MC_summary_statistics)"
   ]
  },
  {
   "cell_type": "markdown",
   "metadata": {},
   "source": [
    "### Analyze the Retirement Portfolio Forecasts\n",
    "\n",
    "Using the current value of only the stock and bond portion of the member's portfolio and the summary statistics that you generated from the Monte Carlo simulation, answer the following question in your Jupyter notebook:\n",
    "\n",
    "-  What are the lower and upper bounds for the expected value of the portfolio with a 95% confidence interval?\n"
   ]
  },
  {
   "cell_type": "code",
   "execution_count": 222,
   "metadata": {},
   "outputs": [
    {
     "name": "stdout",
     "output_type": "stream",
     "text": [
      "The current value of the stocks and bonds portion of the portfolio is $68268.20\n"
     ]
    }
   ],
   "source": [
    "# Print the current balance of the stock and bond portion of the members portfolio\n",
    "print(f\"The current value of the stocks and bonds portion of the portfolio is ${total_stocks_bonds:0.2f}\")"
   ]
  },
  {
   "cell_type": "code",
   "execution_count": 224,
   "metadata": {},
   "outputs": [
    {
     "name": "stdout",
     "output_type": "stream",
     "text": [
      "There is a 95% chance that the current value of the stocks and bonds portion ($68268.20) in the portfolio with weights of 0.40 for bonds and 0.60 for stocks, over the next 30 years will end within in the range of $198677.17 and $2050437.99.\n"
     ]
    }
   ],
   "source": [
    "# Use the lower and upper `95%` confidence intervals to calculate the range of the possible outcomes for the current stock/bond portfolio\n",
    "ci_lower_thirty_cumulative_return = round(MC_summary_statistics[8]*total_stocks_bonds, 2)\n",
    "ci_upper_thirty_cumulative_return = round(MC_summary_statistics[9]*total_stocks_bonds, 2)\n",
    "\n",
    "# Print the result of your calculations\n",
    "print(f\"There is a 95% chance that the current value of the stocks and bonds portion (${total_stocks_bonds:0.2f}) in the portfolio\"\n",
    "      f\" with weights of 0.40 for bonds and 0.60 for stocks, over the next 30 years will end within in the range of\"\n",
    "      f\" ${ci_lower_thirty_cumulative_return} and ${ci_upper_thirty_cumulative_return}.\")"
   ]
  },
  {
   "cell_type": "markdown",
   "metadata": {},
   "source": [
    "### Forecast Cumulative Returns in 10 Years\n",
    "\n",
    "The CTO of the credit union is impressed with your work on these planning tools but wonders if 30 years is a long time to wait until retirement. So, your next task is to adjust the retirement portfolio and run a new Monte Carlo simulation to find out if the changes will allow members to retire earlier.\n",
    "\n",
    "For this new Monte Carlo simulation, do the following: \n",
    "\n",
    "- Forecast the cumulative returns for 10 years from now. Because of the shortened investment horizon (30 years to 10 years), the portfolio needs to invest more heavily in the riskier asset&mdash;that is, stock&mdash;to help accumulate wealth for retirement. \n",
    "\n",
    "- Adjust the weights of the retirement portfolio so that the composition for the Monte Carlo simulation consists of 20% bonds and 80% stocks. \n",
    "\n",
    "- Run the simulation over 500 samples, and use the same data that the API call to Alpaca generated.\n",
    "\n",
    "- Based on the new Monte Carlo simulation, answer the following questions in your Jupyter notebook:\n",
    "\n",
    "    - Using the current value of only the stock and bond portion of the member's portfolio and the summary statistics that you generated from the new Monte Carlo simulation, what are the lower and upper bounds for the expected value of the portfolio (with the new weights) with a 95% confidence interval?\n",
    "\n",
    "    - Will weighting the portfolio more heavily toward stocks allow the credit union members to retire after only 10 years?\n"
   ]
  },
  {
   "cell_type": "code",
   "execution_count": 225,
   "metadata": {},
   "outputs": [
    {
     "data": {
      "text/html": [
       "<div>\n",
       "<style scoped>\n",
       "    .dataframe tbody tr th:only-of-type {\n",
       "        vertical-align: middle;\n",
       "    }\n",
       "\n",
       "    .dataframe tbody tr th {\n",
       "        vertical-align: top;\n",
       "    }\n",
       "\n",
       "    .dataframe thead tr th {\n",
       "        text-align: left;\n",
       "    }\n",
       "\n",
       "    .dataframe thead tr:last-of-type th {\n",
       "        text-align: right;\n",
       "    }\n",
       "</style>\n",
       "<table border=\"1\" class=\"dataframe\">\n",
       "  <thead>\n",
       "    <tr>\n",
       "      <th></th>\n",
       "      <th colspan=\"6\" halign=\"left\">AGG</th>\n",
       "      <th colspan=\"6\" halign=\"left\">SPY</th>\n",
       "    </tr>\n",
       "    <tr>\n",
       "      <th></th>\n",
       "      <th>open</th>\n",
       "      <th>high</th>\n",
       "      <th>low</th>\n",
       "      <th>close</th>\n",
       "      <th>volume</th>\n",
       "      <th>daily_return</th>\n",
       "      <th>open</th>\n",
       "      <th>high</th>\n",
       "      <th>low</th>\n",
       "      <th>close</th>\n",
       "      <th>volume</th>\n",
       "      <th>daily_return</th>\n",
       "    </tr>\n",
       "    <tr>\n",
       "      <th>time</th>\n",
       "      <th></th>\n",
       "      <th></th>\n",
       "      <th></th>\n",
       "      <th></th>\n",
       "      <th></th>\n",
       "      <th></th>\n",
       "      <th></th>\n",
       "      <th></th>\n",
       "      <th></th>\n",
       "      <th></th>\n",
       "      <th></th>\n",
       "      <th></th>\n",
       "    </tr>\n",
       "  </thead>\n",
       "  <tbody>\n",
       "    <tr>\n",
       "      <th>2011-04-20 00:00:00-04:00</th>\n",
       "      <td>105.75</td>\n",
       "      <td>105.83</td>\n",
       "      <td>105.64</td>\n",
       "      <td>105.69</td>\n",
       "      <td>377292</td>\n",
       "      <td>NaN</td>\n",
       "      <td>132.88</td>\n",
       "      <td>133.39</td>\n",
       "      <td>132.79</td>\n",
       "      <td>133.13</td>\n",
       "      <td>119650131</td>\n",
       "      <td>NaN</td>\n",
       "    </tr>\n",
       "    <tr>\n",
       "      <th>2011-04-21 00:00:00-04:00</th>\n",
       "      <td>105.70</td>\n",
       "      <td>105.83</td>\n",
       "      <td>105.67</td>\n",
       "      <td>105.76</td>\n",
       "      <td>412009</td>\n",
       "      <td>0.000662</td>\n",
       "      <td>133.79</td>\n",
       "      <td>133.84</td>\n",
       "      <td>133.35</td>\n",
       "      <td>133.75</td>\n",
       "      <td>90991053</td>\n",
       "      <td>0.004657</td>\n",
       "    </tr>\n",
       "    <tr>\n",
       "      <th>2011-04-25 00:00:00-04:00</th>\n",
       "      <td>105.75</td>\n",
       "      <td>105.92</td>\n",
       "      <td>105.70</td>\n",
       "      <td>105.81</td>\n",
       "      <td>514708</td>\n",
       "      <td>0.000473</td>\n",
       "      <td>133.67</td>\n",
       "      <td>133.86</td>\n",
       "      <td>133.20</td>\n",
       "      <td>133.61</td>\n",
       "      <td>51288661</td>\n",
       "      <td>-0.001047</td>\n",
       "    </tr>\n",
       "    <tr>\n",
       "      <th>2011-04-26 00:00:00-04:00</th>\n",
       "      <td>105.91</td>\n",
       "      <td>106.20</td>\n",
       "      <td>105.91</td>\n",
       "      <td>106.19</td>\n",
       "      <td>551387</td>\n",
       "      <td>0.003591</td>\n",
       "      <td>134.05</td>\n",
       "      <td>135.06</td>\n",
       "      <td>133.91</td>\n",
       "      <td>134.78</td>\n",
       "      <td>101593079</td>\n",
       "      <td>0.008757</td>\n",
       "    </tr>\n",
       "    <tr>\n",
       "      <th>2011-04-27 00:00:00-04:00</th>\n",
       "      <td>106.02</td>\n",
       "      <td>106.15</td>\n",
       "      <td>105.87</td>\n",
       "      <td>106.12</td>\n",
       "      <td>445160</td>\n",
       "      <td>-0.000659</td>\n",
       "      <td>135.05</td>\n",
       "      <td>135.87</td>\n",
       "      <td>134.50</td>\n",
       "      <td>135.62</td>\n",
       "      <td>115224999</td>\n",
       "      <td>0.006232</td>\n",
       "    </tr>\n",
       "  </tbody>\n",
       "</table>\n",
       "</div>"
      ],
      "text/plain": [
       "                              AGG                                  \\\n",
       "                             open    high     low   close  volume   \n",
       "time                                                                \n",
       "2011-04-20 00:00:00-04:00  105.75  105.83  105.64  105.69  377292   \n",
       "2011-04-21 00:00:00-04:00  105.70  105.83  105.67  105.76  412009   \n",
       "2011-04-25 00:00:00-04:00  105.75  105.92  105.70  105.81  514708   \n",
       "2011-04-26 00:00:00-04:00  105.91  106.20  105.91  106.19  551387   \n",
       "2011-04-27 00:00:00-04:00  106.02  106.15  105.87  106.12  445160   \n",
       "\n",
       "                                           SPY                          \\\n",
       "                          daily_return    open    high     low   close   \n",
       "time                                                                     \n",
       "2011-04-20 00:00:00-04:00          NaN  132.88  133.39  132.79  133.13   \n",
       "2011-04-21 00:00:00-04:00     0.000662  133.79  133.84  133.35  133.75   \n",
       "2011-04-25 00:00:00-04:00     0.000473  133.67  133.86  133.20  133.61   \n",
       "2011-04-26 00:00:00-04:00     0.003591  134.05  135.06  133.91  134.78   \n",
       "2011-04-27 00:00:00-04:00    -0.000659  135.05  135.87  134.50  135.62   \n",
       "\n",
       "                                                   \n",
       "                              volume daily_return  \n",
       "time                                               \n",
       "2011-04-20 00:00:00-04:00  119650131          NaN  \n",
       "2011-04-21 00:00:00-04:00   90991053     0.004657  \n",
       "2011-04-25 00:00:00-04:00   51288661    -0.001047  \n",
       "2011-04-26 00:00:00-04:00  101593079     0.008757  \n",
       "2011-04-27 00:00:00-04:00  115224999     0.006232  "
      ]
     },
     "execution_count": 225,
     "metadata": {},
     "output_type": "execute_result"
    }
   ],
   "source": [
    "# Configure a Monte Carlo simulation to forecast 10 years cumulative returns\n",
    "# The weights should be split 20% to AGG and 80% to SPY.\n",
    "# Run 500 samples.\n",
    "MC_tenyear = MCSimulation(portfolio_data= prices_10years_df, weights=[.20, .80], num_simulation=500, num_trading_days= 252*10)\n",
    "\n",
    "\n",
    "# Review the simulation input data\n",
    "MC_tenyear.portfolio_data.head()\n"
   ]
  },
  {
   "cell_type": "code",
   "execution_count": 226,
   "metadata": {},
   "outputs": [
    {
     "name": "stdout",
     "output_type": "stream",
     "text": [
      "Running Monte Carlo simulation number 0.\n",
      "Running Monte Carlo simulation number 10.\n",
      "Running Monte Carlo simulation number 20.\n",
      "Running Monte Carlo simulation number 30.\n",
      "Running Monte Carlo simulation number 40.\n",
      "Running Monte Carlo simulation number 50.\n",
      "Running Monte Carlo simulation number 60.\n",
      "Running Monte Carlo simulation number 70.\n",
      "Running Monte Carlo simulation number 80.\n",
      "Running Monte Carlo simulation number 90.\n",
      "Running Monte Carlo simulation number 100.\n",
      "Running Monte Carlo simulation number 110.\n",
      "Running Monte Carlo simulation number 120.\n",
      "Running Monte Carlo simulation number 130.\n",
      "Running Monte Carlo simulation number 140.\n",
      "Running Monte Carlo simulation number 150.\n",
      "Running Monte Carlo simulation number 160.\n",
      "Running Monte Carlo simulation number 170.\n",
      "Running Monte Carlo simulation number 180.\n",
      "Running Monte Carlo simulation number 190.\n",
      "Running Monte Carlo simulation number 200.\n",
      "Running Monte Carlo simulation number 210.\n",
      "Running Monte Carlo simulation number 220.\n",
      "Running Monte Carlo simulation number 230.\n",
      "Running Monte Carlo simulation number 240.\n",
      "Running Monte Carlo simulation number 250.\n",
      "Running Monte Carlo simulation number 260.\n",
      "Running Monte Carlo simulation number 270.\n",
      "Running Monte Carlo simulation number 280.\n",
      "Running Monte Carlo simulation number 290.\n",
      "Running Monte Carlo simulation number 300.\n",
      "Running Monte Carlo simulation number 310.\n",
      "Running Monte Carlo simulation number 320.\n",
      "Running Monte Carlo simulation number 330.\n",
      "Running Monte Carlo simulation number 340.\n",
      "Running Monte Carlo simulation number 350.\n",
      "Running Monte Carlo simulation number 360.\n",
      "Running Monte Carlo simulation number 370.\n",
      "Running Monte Carlo simulation number 380.\n",
      "Running Monte Carlo simulation number 390.\n",
      "Running Monte Carlo simulation number 400.\n",
      "Running Monte Carlo simulation number 410.\n",
      "Running Monte Carlo simulation number 420.\n",
      "Running Monte Carlo simulation number 430.\n",
      "Running Monte Carlo simulation number 440.\n",
      "Running Monte Carlo simulation number 450.\n",
      "Running Monte Carlo simulation number 460.\n",
      "Running Monte Carlo simulation number 470.\n",
      "Running Monte Carlo simulation number 480.\n",
      "Running Monte Carlo simulation number 490.\n"
     ]
    },
    {
     "data": {
      "text/html": [
       "<div>\n",
       "<style scoped>\n",
       "    .dataframe tbody tr th:only-of-type {\n",
       "        vertical-align: middle;\n",
       "    }\n",
       "\n",
       "    .dataframe tbody tr th {\n",
       "        vertical-align: top;\n",
       "    }\n",
       "\n",
       "    .dataframe thead th {\n",
       "        text-align: right;\n",
       "    }\n",
       "</style>\n",
       "<table border=\"1\" class=\"dataframe\">\n",
       "  <thead>\n",
       "    <tr style=\"text-align: right;\">\n",
       "      <th></th>\n",
       "      <th>0</th>\n",
       "      <th>1</th>\n",
       "      <th>2</th>\n",
       "      <th>3</th>\n",
       "      <th>4</th>\n",
       "      <th>5</th>\n",
       "      <th>6</th>\n",
       "      <th>7</th>\n",
       "      <th>8</th>\n",
       "      <th>9</th>\n",
       "      <th>...</th>\n",
       "      <th>490</th>\n",
       "      <th>491</th>\n",
       "      <th>492</th>\n",
       "      <th>493</th>\n",
       "      <th>494</th>\n",
       "      <th>495</th>\n",
       "      <th>496</th>\n",
       "      <th>497</th>\n",
       "      <th>498</th>\n",
       "      <th>499</th>\n",
       "    </tr>\n",
       "  </thead>\n",
       "  <tbody>\n",
       "    <tr>\n",
       "      <th>0</th>\n",
       "      <td>1.000000</td>\n",
       "      <td>1.000000</td>\n",
       "      <td>1.000000</td>\n",
       "      <td>1.000000</td>\n",
       "      <td>1.000000</td>\n",
       "      <td>1.000000</td>\n",
       "      <td>1.000000</td>\n",
       "      <td>1.000000</td>\n",
       "      <td>1.000000</td>\n",
       "      <td>1.000000</td>\n",
       "      <td>...</td>\n",
       "      <td>1.000000</td>\n",
       "      <td>1.000000</td>\n",
       "      <td>1.000000</td>\n",
       "      <td>1.000000</td>\n",
       "      <td>1.000000</td>\n",
       "      <td>1.000000</td>\n",
       "      <td>1.000000</td>\n",
       "      <td>1.000000</td>\n",
       "      <td>1.000000</td>\n",
       "      <td>1.000000</td>\n",
       "    </tr>\n",
       "    <tr>\n",
       "      <th>1</th>\n",
       "      <td>0.999201</td>\n",
       "      <td>1.013127</td>\n",
       "      <td>0.989301</td>\n",
       "      <td>0.998754</td>\n",
       "      <td>0.994568</td>\n",
       "      <td>1.005223</td>\n",
       "      <td>0.994015</td>\n",
       "      <td>1.012836</td>\n",
       "      <td>0.999118</td>\n",
       "      <td>1.001699</td>\n",
       "      <td>...</td>\n",
       "      <td>0.980904</td>\n",
       "      <td>1.012321</td>\n",
       "      <td>1.002878</td>\n",
       "      <td>1.006204</td>\n",
       "      <td>1.008250</td>\n",
       "      <td>0.992812</td>\n",
       "      <td>1.004037</td>\n",
       "      <td>0.999388</td>\n",
       "      <td>0.985177</td>\n",
       "      <td>1.014577</td>\n",
       "    </tr>\n",
       "    <tr>\n",
       "      <th>2</th>\n",
       "      <td>0.994217</td>\n",
       "      <td>1.015124</td>\n",
       "      <td>0.985067</td>\n",
       "      <td>1.012799</td>\n",
       "      <td>1.011887</td>\n",
       "      <td>1.002467</td>\n",
       "      <td>0.985830</td>\n",
       "      <td>1.017740</td>\n",
       "      <td>1.010016</td>\n",
       "      <td>0.995827</td>\n",
       "      <td>...</td>\n",
       "      <td>0.970550</td>\n",
       "      <td>1.015686</td>\n",
       "      <td>1.017279</td>\n",
       "      <td>1.024353</td>\n",
       "      <td>0.999595</td>\n",
       "      <td>0.994023</td>\n",
       "      <td>0.993768</td>\n",
       "      <td>1.001120</td>\n",
       "      <td>0.985078</td>\n",
       "      <td>1.028738</td>\n",
       "    </tr>\n",
       "    <tr>\n",
       "      <th>3</th>\n",
       "      <td>0.982195</td>\n",
       "      <td>1.012218</td>\n",
       "      <td>0.989562</td>\n",
       "      <td>1.020449</td>\n",
       "      <td>1.007099</td>\n",
       "      <td>1.008462</td>\n",
       "      <td>0.983190</td>\n",
       "      <td>1.024111</td>\n",
       "      <td>0.995199</td>\n",
       "      <td>0.991631</td>\n",
       "      <td>...</td>\n",
       "      <td>0.968209</td>\n",
       "      <td>1.011153</td>\n",
       "      <td>1.024191</td>\n",
       "      <td>1.017007</td>\n",
       "      <td>0.997059</td>\n",
       "      <td>1.005336</td>\n",
       "      <td>1.003408</td>\n",
       "      <td>1.020772</td>\n",
       "      <td>0.977393</td>\n",
       "      <td>1.045234</td>\n",
       "    </tr>\n",
       "    <tr>\n",
       "      <th>4</th>\n",
       "      <td>0.982646</td>\n",
       "      <td>1.016890</td>\n",
       "      <td>0.985368</td>\n",
       "      <td>1.014156</td>\n",
       "      <td>1.005642</td>\n",
       "      <td>0.997560</td>\n",
       "      <td>0.985946</td>\n",
       "      <td>1.009711</td>\n",
       "      <td>0.986196</td>\n",
       "      <td>0.987875</td>\n",
       "      <td>...</td>\n",
       "      <td>0.971978</td>\n",
       "      <td>1.027678</td>\n",
       "      <td>1.011775</td>\n",
       "      <td>1.012872</td>\n",
       "      <td>0.982218</td>\n",
       "      <td>1.005290</td>\n",
       "      <td>0.990125</td>\n",
       "      <td>1.015824</td>\n",
       "      <td>0.962452</td>\n",
       "      <td>1.045097</td>\n",
       "    </tr>\n",
       "    <tr>\n",
       "      <th>...</th>\n",
       "      <td>...</td>\n",
       "      <td>...</td>\n",
       "      <td>...</td>\n",
       "      <td>...</td>\n",
       "      <td>...</td>\n",
       "      <td>...</td>\n",
       "      <td>...</td>\n",
       "      <td>...</td>\n",
       "      <td>...</td>\n",
       "      <td>...</td>\n",
       "      <td>...</td>\n",
       "      <td>...</td>\n",
       "      <td>...</td>\n",
       "      <td>...</td>\n",
       "      <td>...</td>\n",
       "      <td>...</td>\n",
       "      <td>...</td>\n",
       "      <td>...</td>\n",
       "      <td>...</td>\n",
       "      <td>...</td>\n",
       "      <td>...</td>\n",
       "    </tr>\n",
       "    <tr>\n",
       "      <th>2516</th>\n",
       "      <td>2.639273</td>\n",
       "      <td>3.624208</td>\n",
       "      <td>3.967299</td>\n",
       "      <td>2.740101</td>\n",
       "      <td>0.987053</td>\n",
       "      <td>2.444483</td>\n",
       "      <td>2.665895</td>\n",
       "      <td>1.683693</td>\n",
       "      <td>2.179826</td>\n",
       "      <td>2.832277</td>\n",
       "      <td>...</td>\n",
       "      <td>2.511811</td>\n",
       "      <td>3.169877</td>\n",
       "      <td>1.614837</td>\n",
       "      <td>5.177251</td>\n",
       "      <td>2.141137</td>\n",
       "      <td>1.961598</td>\n",
       "      <td>1.886602</td>\n",
       "      <td>3.628619</td>\n",
       "      <td>0.824458</td>\n",
       "      <td>1.428159</td>\n",
       "    </tr>\n",
       "    <tr>\n",
       "      <th>2517</th>\n",
       "      <td>2.670832</td>\n",
       "      <td>3.623983</td>\n",
       "      <td>3.950164</td>\n",
       "      <td>2.715927</td>\n",
       "      <td>0.978348</td>\n",
       "      <td>2.464017</td>\n",
       "      <td>2.666090</td>\n",
       "      <td>1.685122</td>\n",
       "      <td>2.199731</td>\n",
       "      <td>2.856354</td>\n",
       "      <td>...</td>\n",
       "      <td>2.480277</td>\n",
       "      <td>3.186430</td>\n",
       "      <td>1.606909</td>\n",
       "      <td>5.226837</td>\n",
       "      <td>2.112751</td>\n",
       "      <td>1.984864</td>\n",
       "      <td>1.894326</td>\n",
       "      <td>3.636732</td>\n",
       "      <td>0.829072</td>\n",
       "      <td>1.438511</td>\n",
       "    </tr>\n",
       "    <tr>\n",
       "      <th>2518</th>\n",
       "      <td>2.651594</td>\n",
       "      <td>3.638301</td>\n",
       "      <td>3.933320</td>\n",
       "      <td>2.696915</td>\n",
       "      <td>0.978800</td>\n",
       "      <td>2.485593</td>\n",
       "      <td>2.603006</td>\n",
       "      <td>1.683279</td>\n",
       "      <td>2.191178</td>\n",
       "      <td>2.884587</td>\n",
       "      <td>...</td>\n",
       "      <td>2.492725</td>\n",
       "      <td>3.207636</td>\n",
       "      <td>1.625321</td>\n",
       "      <td>5.300778</td>\n",
       "      <td>2.100942</td>\n",
       "      <td>1.986453</td>\n",
       "      <td>1.903621</td>\n",
       "      <td>3.616372</td>\n",
       "      <td>0.842309</td>\n",
       "      <td>1.441472</td>\n",
       "    </tr>\n",
       "    <tr>\n",
       "      <th>2519</th>\n",
       "      <td>2.690756</td>\n",
       "      <td>3.703016</td>\n",
       "      <td>3.947005</td>\n",
       "      <td>2.694396</td>\n",
       "      <td>0.984387</td>\n",
       "      <td>2.513132</td>\n",
       "      <td>2.611765</td>\n",
       "      <td>1.700495</td>\n",
       "      <td>2.216831</td>\n",
       "      <td>2.859845</td>\n",
       "      <td>...</td>\n",
       "      <td>2.521479</td>\n",
       "      <td>3.272703</td>\n",
       "      <td>1.622591</td>\n",
       "      <td>5.324990</td>\n",
       "      <td>2.102195</td>\n",
       "      <td>1.999618</td>\n",
       "      <td>1.888787</td>\n",
       "      <td>3.606205</td>\n",
       "      <td>0.853556</td>\n",
       "      <td>1.452128</td>\n",
       "    </tr>\n",
       "    <tr>\n",
       "      <th>2520</th>\n",
       "      <td>2.677738</td>\n",
       "      <td>3.649513</td>\n",
       "      <td>3.926918</td>\n",
       "      <td>2.707144</td>\n",
       "      <td>0.994031</td>\n",
       "      <td>2.466834</td>\n",
       "      <td>2.603117</td>\n",
       "      <td>1.680317</td>\n",
       "      <td>2.235989</td>\n",
       "      <td>2.843203</td>\n",
       "      <td>...</td>\n",
       "      <td>2.493479</td>\n",
       "      <td>3.245755</td>\n",
       "      <td>1.612057</td>\n",
       "      <td>5.370871</td>\n",
       "      <td>2.097873</td>\n",
       "      <td>2.015406</td>\n",
       "      <td>1.875009</td>\n",
       "      <td>3.612427</td>\n",
       "      <td>0.840706</td>\n",
       "      <td>1.449119</td>\n",
       "    </tr>\n",
       "  </tbody>\n",
       "</table>\n",
       "<p>2521 rows × 500 columns</p>\n",
       "</div>"
      ],
      "text/plain": [
       "           0         1         2         3         4         5         6    \\\n",
       "0     1.000000  1.000000  1.000000  1.000000  1.000000  1.000000  1.000000   \n",
       "1     0.999201  1.013127  0.989301  0.998754  0.994568  1.005223  0.994015   \n",
       "2     0.994217  1.015124  0.985067  1.012799  1.011887  1.002467  0.985830   \n",
       "3     0.982195  1.012218  0.989562  1.020449  1.007099  1.008462  0.983190   \n",
       "4     0.982646  1.016890  0.985368  1.014156  1.005642  0.997560  0.985946   \n",
       "...        ...       ...       ...       ...       ...       ...       ...   \n",
       "2516  2.639273  3.624208  3.967299  2.740101  0.987053  2.444483  2.665895   \n",
       "2517  2.670832  3.623983  3.950164  2.715927  0.978348  2.464017  2.666090   \n",
       "2518  2.651594  3.638301  3.933320  2.696915  0.978800  2.485593  2.603006   \n",
       "2519  2.690756  3.703016  3.947005  2.694396  0.984387  2.513132  2.611765   \n",
       "2520  2.677738  3.649513  3.926918  2.707144  0.994031  2.466834  2.603117   \n",
       "\n",
       "           7         8         9    ...       490       491       492  \\\n",
       "0     1.000000  1.000000  1.000000  ...  1.000000  1.000000  1.000000   \n",
       "1     1.012836  0.999118  1.001699  ...  0.980904  1.012321  1.002878   \n",
       "2     1.017740  1.010016  0.995827  ...  0.970550  1.015686  1.017279   \n",
       "3     1.024111  0.995199  0.991631  ...  0.968209  1.011153  1.024191   \n",
       "4     1.009711  0.986196  0.987875  ...  0.971978  1.027678  1.011775   \n",
       "...        ...       ...       ...  ...       ...       ...       ...   \n",
       "2516  1.683693  2.179826  2.832277  ...  2.511811  3.169877  1.614837   \n",
       "2517  1.685122  2.199731  2.856354  ...  2.480277  3.186430  1.606909   \n",
       "2518  1.683279  2.191178  2.884587  ...  2.492725  3.207636  1.625321   \n",
       "2519  1.700495  2.216831  2.859845  ...  2.521479  3.272703  1.622591   \n",
       "2520  1.680317  2.235989  2.843203  ...  2.493479  3.245755  1.612057   \n",
       "\n",
       "           493       494       495       496       497       498       499  \n",
       "0     1.000000  1.000000  1.000000  1.000000  1.000000  1.000000  1.000000  \n",
       "1     1.006204  1.008250  0.992812  1.004037  0.999388  0.985177  1.014577  \n",
       "2     1.024353  0.999595  0.994023  0.993768  1.001120  0.985078  1.028738  \n",
       "3     1.017007  0.997059  1.005336  1.003408  1.020772  0.977393  1.045234  \n",
       "4     1.012872  0.982218  1.005290  0.990125  1.015824  0.962452  1.045097  \n",
       "...        ...       ...       ...       ...       ...       ...       ...  \n",
       "2516  5.177251  2.141137  1.961598  1.886602  3.628619  0.824458  1.428159  \n",
       "2517  5.226837  2.112751  1.984864  1.894326  3.636732  0.829072  1.438511  \n",
       "2518  5.300778  2.100942  1.986453  1.903621  3.616372  0.842309  1.441472  \n",
       "2519  5.324990  2.102195  1.999618  1.888787  3.606205  0.853556  1.452128  \n",
       "2520  5.370871  2.097873  2.015406  1.875009  3.612427  0.840706  1.449119  \n",
       "\n",
       "[2521 rows x 500 columns]"
      ]
     },
     "execution_count": 226,
     "metadata": {},
     "output_type": "execute_result"
    }
   ],
   "source": [
    "# Run the Monte Carlo simulation to forecast 10 years cumulative returns\n",
    "MC_tenyear.calc_cumulative_return()"
   ]
  },
  {
   "cell_type": "code",
   "execution_count": 227,
   "metadata": {},
   "outputs": [
    {
     "data": {
      "text/plain": [
       "<AxesSubplot:title={'center':'500 Simulations of Cumulative Portfolio Return Trajectories Over the Next 2520 Trading Days.'}>"
      ]
     },
     "execution_count": 227,
     "metadata": {},
     "output_type": "execute_result"
    },
    {
     "data": {
      "image/png": "[encoded data removed]",
      "text/plain": [
       "<Figure size 432x288 with 1 Axes>"
      ]
     },
     "metadata": {
      "needs_background": "light"
     },
     "output_type": "display_data"
    }
   ],
   "source": [
    "# Visualize the 10-year Monte Carlo simulation by creating an\n",
    "# overlay line plot\n",
    "MC_tenyear.plot_simulation()"
   ]
  },
  {
   "cell_type": "code",
   "execution_count": 228,
   "metadata": {},
   "outputs": [
    {
     "data": {
      "text/plain": [
       "<AxesSubplot:title={'center':'Distribution of Final Cumuluative Returns Across All 500 Simulations'}, ylabel='Frequency'>"
      ]
     },
     "execution_count": 228,
     "metadata": {},
     "output_type": "execute_result"
    },
    {
     "data": {
      "image/png": "[encoded data removed]",
      "text/plain": [
       "<Figure size 432x288 with 1 Axes>"
      ]
     },
     "metadata": {
      "needs_background": "light"
     },
     "output_type": "display_data"
    }
   ],
   "source": [
    "# Visualize the probability distribution of the 10-year Monte Carlo simulation \n",
    "# by plotting a histogram\n",
    "MC_tenyear.plot_distribution()"
   ]
  },
  {
   "cell_type": "code",
   "execution_count": 229,
   "metadata": {},
   "outputs": [
    {
     "name": "stdout",
     "output_type": "stream",
     "text": [
      "count           500.000000\n",
      "mean              2.840033\n",
      "std               1.307677\n",
      "min               0.704321\n",
      "25%               1.937359\n",
      "50%               2.538383\n",
      "75%               3.487453\n",
      "max               9.185056\n",
      "95% CI Lower      1.071302\n",
      "95% CI Upper      6.075086\n",
      "Name: 2520, dtype: float64\n"
     ]
    }
   ],
   "source": [
    "# Generate summary statistics from the 10-year Monte Carlo simulation results\n",
    "# Save the results as a variable\n",
    "MC_tenyear_summary_statistics = MC_tenyear.summarize_cumulative_return()\n",
    "\n",
    "# Review the 10-year Monte Carlo summary statistics\n",
    "print(MC_tenyear_summary_statistics)"
   ]
  },
  {
   "cell_type": "markdown",
   "metadata": {},
   "source": [
    "### Answer the following questions:"
   ]
  },
  {
   "cell_type": "markdown",
   "metadata": {},
   "source": [
    "#### Question: Using the current value of only the stock and bond portion of the member's portfolio and the summary statistics that you generated from the new Monte Carlo simulation, what are the lower and upper bounds for the expected value of the portfolio (with the new weights) with a 95% confidence interval?"
   ]
  },
  {
   "cell_type": "code",
   "execution_count": 230,
   "metadata": {},
   "outputs": [
    {
     "name": "stdout",
     "output_type": "stream",
     "text": [
      "The current value of the stocks and bonds portion of the portfolio is $68268.20\n"
     ]
    }
   ],
   "source": [
    "# Print the current balance of the stock and bond portion of the members portfolio\n",
    "print(f\"The current value of the stocks and bonds portion of the portfolio is ${total_stocks_bonds:0.2f}\")"
   ]
  },
  {
   "cell_type": "code",
   "execution_count": 232,
   "metadata": {},
   "outputs": [
    {
     "name": "stdout",
     "output_type": "stream",
     "text": [
      "There is a 95% chance that the current value of the stocks and bonds portion ($68268.20) in the portfolio with weights of 0.20 for bonds and 0.80 for stocks, over the next 10 years will end within in the range of $73135.86 and $414735.15.\n"
     ]
    }
   ],
   "source": [
    "# Use the lower and upper `95%` confidence intervals to calculate the range of the possible outcomes for the current stock/bond portfolio\n",
    "ci_lower_ten_cumulative_return =  round(MC_tenyear_summary_statistics[8]*total_stocks_bonds, 2)\n",
    "ci_upper_ten_cumulative_return = round(MC_tenyear_summary_statistics[9]*total_stocks_bonds, 2)\n",
    "\n",
    "# Print the result of your calculations\n",
    "print(f\"There is a 95% chance that the current value of the stocks and bonds portion (${total_stocks_bonds:0.2f}) in the portfolio\"\n",
    "      f\" with weights of 0.20 for bonds and 0.80 for stocks, over the next 10 years will end within in the range of\"\n",
    "      f\" ${ci_lower_ten_cumulative_return} and ${ci_upper_ten_cumulative_return}.\")"
   ]
  },
  {
   "cell_type": "markdown",
   "metadata": {},
   "source": [
    "#### Question: Will weighting the portfolio more heavily to stocks allow the credit union members to retire after only 10 years?"
   ]
  },
  {
   "cell_type": "markdown",
   "metadata": {},
   "source": [
    "**Answer** No. Based on the Monte Carlo Simulations we can see that if the portfolio were to be invested more heavily in stocks over the next 10 years, it would generate an upperbound of $ 414,735.15 in value. Which is not enough for retirement.\n",
    "\n",
    "While the lowerbound of would be $73,135.86, which is relatively nothing compared to the inital investment."
   ]
  }
 ],
 "metadata": {
  "kernelspec": {
   "display_name": "dev",
   "language": "python",
   "name": "dev"
  },
  "language_info": {
   "codemirror_mode": {
    "name": "ipython",
    "version": 3
   },
   "file_extension": ".py",
   "mimetype": "text/x-python",
   "name": "python",
   "nbconvert_exporter": "python",
   "pygments_lexer": "ipython3",
   "version": "3.7.10"
  }
 },
 "nbformat": 4,
 "nbformat_minor": 4
}
